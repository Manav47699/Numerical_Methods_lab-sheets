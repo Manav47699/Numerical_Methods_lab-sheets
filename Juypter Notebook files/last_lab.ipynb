{
  "nbformat": 4,
  "nbformat_minor": 0,
  "metadata": {
    "colab": {
      "provenance": []
    },
    "kernelspec": {
      "name": "python3",
      "display_name": "Python 3"
    },
    "language_info": {
      "name": "python"
    }
  },
  "cells": [
    {
      "cell_type": "markdown",
      "source": [
        "# labreport ma rk4 matrai garne ho"
      ],
      "metadata": {
        "id": "m_fvQjGZnSwW"
      }
    },
    {
      "cell_type": "markdown",
      "source": [
        "my\n",
        "1st"
      ],
      "metadata": {
        "id": "BUkddxmOk7h2"
      }
    },
    {
      "cell_type": "code",
      "execution_count": null,
      "metadata": {
        "colab": {
          "base_uri": "https://localhost:8080/",
          "height": 372
        },
        "id": "1YfaDOHqhbaM",
        "outputId": "7a78b680-b7f3-4312-8e06-1273826a5f8e"
      },
      "outputs": [
        {
          "output_type": "error",
          "ename": "KeyboardInterrupt",
          "evalue": "Interrupted by user",
          "traceback": [
            "\u001b[0;31m---------------------------------------------------------------------------\u001b[0m",
            "\u001b[0;31mKeyboardInterrupt\u001b[0m                         Traceback (most recent call last)",
            "\u001b[0;32m/tmp/ipython-input-2337642972.py\u001b[0m in \u001b[0;36m<cell line: 0>\u001b[0;34m()\u001b[0m\n\u001b[1;32m      1\u001b[0m \u001b[0;31m# to solve insitialvalue problem of 1st order by using R-K-4 method.\u001b[0m\u001b[0;34m\u001b[0m\u001b[0;34m\u001b[0m\u001b[0m\n\u001b[1;32m      2\u001b[0m \u001b[0;32mimport\u001b[0m \u001b[0mpandas\u001b[0m \u001b[0;32mas\u001b[0m \u001b[0mpd\u001b[0m\u001b[0;34m\u001b[0m\u001b[0;34m\u001b[0m\u001b[0m\n\u001b[0;32m----> 3\u001b[0;31m \u001b[0mode\u001b[0m \u001b[0;34m=\u001b[0m \u001b[0minput\u001b[0m\u001b[0;34m(\u001b[0m\u001b[0;34m\"enter dy/dx in terms of x and y using python syntax: \"\u001b[0m\u001b[0;34m)\u001b[0m\u001b[0;34m\u001b[0m\u001b[0;34m\u001b[0m\u001b[0m\n\u001b[0m\u001b[1;32m      4\u001b[0m \u001b[0;32mdef\u001b[0m \u001b[0mF\u001b[0m\u001b[0;34m(\u001b[0m\u001b[0mx\u001b[0m\u001b[0;34m,\u001b[0m \u001b[0my\u001b[0m\u001b[0;34m,\u001b[0m \u001b[0mode\u001b[0m\u001b[0;34m)\u001b[0m\u001b[0;34m:\u001b[0m\u001b[0;34m\u001b[0m\u001b[0;34m\u001b[0m\u001b[0m\n\u001b[1;32m      5\u001b[0m   \u001b[0;32mreturn\u001b[0m \u001b[0meval\u001b[0m\u001b[0;34m(\u001b[0m\u001b[0mode\u001b[0m\u001b[0;34m)\u001b[0m\u001b[0;34m\u001b[0m\u001b[0;34m\u001b[0m\u001b[0m\n",
            "\u001b[0;32m/usr/local/lib/python3.11/dist-packages/ipykernel/kernelbase.py\u001b[0m in \u001b[0;36mraw_input\u001b[0;34m(self, prompt)\u001b[0m\n\u001b[1;32m   1175\u001b[0m                 \u001b[0;34m\"raw_input was called, but this frontend does not support input requests.\"\u001b[0m\u001b[0;34m\u001b[0m\u001b[0;34m\u001b[0m\u001b[0m\n\u001b[1;32m   1176\u001b[0m             )\n\u001b[0;32m-> 1177\u001b[0;31m         return self._input_request(\n\u001b[0m\u001b[1;32m   1178\u001b[0m             \u001b[0mstr\u001b[0m\u001b[0;34m(\u001b[0m\u001b[0mprompt\u001b[0m\u001b[0;34m)\u001b[0m\u001b[0;34m,\u001b[0m\u001b[0;34m\u001b[0m\u001b[0;34m\u001b[0m\u001b[0m\n\u001b[1;32m   1179\u001b[0m             \u001b[0mself\u001b[0m\u001b[0;34m.\u001b[0m\u001b[0m_parent_ident\u001b[0m\u001b[0;34m[\u001b[0m\u001b[0;34m\"shell\"\u001b[0m\u001b[0;34m]\u001b[0m\u001b[0;34m,\u001b[0m\u001b[0;34m\u001b[0m\u001b[0;34m\u001b[0m\u001b[0m\n",
            "\u001b[0;32m/usr/local/lib/python3.11/dist-packages/ipykernel/kernelbase.py\u001b[0m in \u001b[0;36m_input_request\u001b[0;34m(self, prompt, ident, parent, password)\u001b[0m\n\u001b[1;32m   1217\u001b[0m             \u001b[0;32mexcept\u001b[0m \u001b[0mKeyboardInterrupt\u001b[0m\u001b[0;34m:\u001b[0m\u001b[0;34m\u001b[0m\u001b[0;34m\u001b[0m\u001b[0m\n\u001b[1;32m   1218\u001b[0m                 \u001b[0;31m# re-raise KeyboardInterrupt, to truncate traceback\u001b[0m\u001b[0;34m\u001b[0m\u001b[0;34m\u001b[0m\u001b[0m\n\u001b[0;32m-> 1219\u001b[0;31m                 \u001b[0;32mraise\u001b[0m \u001b[0mKeyboardInterrupt\u001b[0m\u001b[0;34m(\u001b[0m\u001b[0;34m\"Interrupted by user\"\u001b[0m\u001b[0;34m)\u001b[0m \u001b[0;32mfrom\u001b[0m \u001b[0;32mNone\u001b[0m\u001b[0;34m\u001b[0m\u001b[0;34m\u001b[0m\u001b[0m\n\u001b[0m\u001b[1;32m   1220\u001b[0m             \u001b[0;32mexcept\u001b[0m \u001b[0mException\u001b[0m\u001b[0;34m:\u001b[0m\u001b[0;34m\u001b[0m\u001b[0;34m\u001b[0m\u001b[0m\n\u001b[1;32m   1221\u001b[0m                 \u001b[0mself\u001b[0m\u001b[0;34m.\u001b[0m\u001b[0mlog\u001b[0m\u001b[0;34m.\u001b[0m\u001b[0mwarning\u001b[0m\u001b[0;34m(\u001b[0m\u001b[0;34m\"Invalid Message:\"\u001b[0m\u001b[0;34m,\u001b[0m \u001b[0mexc_info\u001b[0m\u001b[0;34m=\u001b[0m\u001b[0;32mTrue\u001b[0m\u001b[0;34m)\u001b[0m\u001b[0;34m\u001b[0m\u001b[0;34m\u001b[0m\u001b[0m\n",
            "\u001b[0;31mKeyboardInterrupt\u001b[0m: Interrupted by user"
          ]
        }
      ],
      "source": [
        "# to solve insitialvalue problem of 1st order by using R-K-4 method.\n",
        "import pandas as pd\n",
        "ode = input(\"enter dy/dx in terms of x and y using python syntax: \")\n",
        "def F(x, y, ode):\n",
        "  return eval(ode)\n",
        "\n",
        "def f(x, y):\n",
        "  return F(x, y, ode)\n",
        "x = float(input(\"Enter the initial value of x:\"))\n",
        "y = float(input(\"enter the inital value of y;\"))\n",
        "h = float (input(\"enter stepsize\"))\n",
        "n = int(input(\"enter the number of steps\"))\n",
        "\n",
        "list = []\n",
        "x_list = []\n",
        "y_list = []\n",
        "\n",
        "for i in range(n):\n",
        "  k1 = h * f(x, y)\n",
        "  k2 = h * f(x+h/2, y+k1/2)\n",
        "  k3 = h * f(x+h/2, y+k2/2)\n",
        "  k4 = h * f(x+h, y+k3)\n",
        "  y = y + (1/6)*(k1+2*k2+2*k3+k4)\n",
        "  x = x+h\n",
        "  list.append([x,y])\n",
        "  x_list.append(x)\n",
        "  y_list.append(y)\n",
        "pd.dataframe(list, columns= ['x', 'y'])\n",
        "print (\"print solutions\")\n",
        "print (list)\n"
      ]
    },
    {
      "cell_type": "markdown",
      "source": [
        "gpt 1st"
      ],
      "metadata": {
        "id": "Gxa8qNyQk-Et"
      }
    },
    {
      "cell_type": "code",
      "source": [
        "# to solve insitialvalue problem of 1st order by using R-K-4 method.\n",
        "import pandas as pd\n",
        "import numpy as np\n",
        "import matplotlib.pyplot as plt\n",
        "ode = input(\"Enter dy/dx in terms of x and y using Python syntax (e.g., x + y): \")\n",
        "\n",
        "def F(x, y, ode):\n",
        "    return eval(ode)\n",
        "\n",
        "\n",
        "def f(x, y):\n",
        "    return F(x, y, ode)\n",
        "\n",
        "\n",
        "x = float(input(\"Enter the initial value of x: \"))\n",
        "y = float(input(\"Enter the initial value of y: \"))\n",
        "h = float(input(\"Enter the step size h: \"))\n",
        "n = int(input(\"Enter the number of steps: \"))\n",
        "\n",
        "# Initialize list to store results\n",
        "results = [[x, y]]\n",
        "x_list = [x]\n",
        "y_list = [y]\n",
        "\n",
        "# Runge-Kutta 4th-order method loop\n",
        "for i in range(n):\n",
        "\n",
        "    k1 = h * f(x, y)\n",
        "    k2 = h * f(x + h/2, y + k1/2)\n",
        "    k3 = h * f(x + h/2, y + k2/2)\n",
        "    k4 = h * f(x + h, y + k3)\n",
        "\n",
        "    y = y + (1/6) * (k1 + 2*k2 + 2*k3 + k4)  # FIXED parentheses issue here\n",
        "    x = x + h\n",
        "    results.append([x, y])\n",
        "    x_list.append(x)\n",
        "    y_list.append(y)\n",
        "\n",
        "# Convert to DataFrame\n",
        "df = pd.DataFrame(results, columns=['x', 'y'])\n",
        "\n",
        "# Display results\n",
        "print(\"\\nSolution using RK4 method:\")\n",
        "print(df)\n",
        "\n",
        "#plotting\n",
        "plt.plot(x_list, y_list, label = ode, color = \"red\")\n",
        "plt.legend()\n",
        "plt.grid(True)\n",
        "plt.show()\n"
      ],
      "metadata": {
        "colab": {
          "base_uri": "https://localhost:8080/",
          "height": 777
        },
        "id": "spQykGjZksoN",
        "outputId": "758f5b7a-e30d-45c5-fac9-6609bb97b831"
      },
      "execution_count": null,
      "outputs": [
        {
          "output_type": "stream",
          "name": "stdout",
          "text": [
            "Enter dy/dx in terms of x and y using Python syntax (e.g., x + y): y + np.exp(x)\n",
            "Enter the initial value of x: 0\n",
            "Enter the initial value of y: 0\n",
            "Enter the step size h: 0.1\n",
            "Enter the number of steps: 10\n",
            "\n",
            "Solution using RK4 method:\n",
            "      x         y\n",
            "0   0.0  0.000000\n",
            "1   0.1  0.110517\n",
            "2   0.2  0.244280\n",
            "3   0.3  0.404957\n",
            "4   0.4  0.596729\n",
            "5   0.5  0.824359\n",
            "6   0.6  1.093269\n",
            "7   0.7  1.409625\n",
            "8   0.8  1.780430\n",
            "9   0.9  2.213639\n",
            "10  1.0  2.718277\n"
          ]
        },
        {
          "output_type": "display_data",
          "data": {
            "text/plain": [
              "<Figure size 640x480 with 1 Axes>"
            ],
            "image/png": "[encoded data removed]"
          },
          "metadata": {}
        }
      ]
    },
    {
      "cell_type": "code",
      "source": [
        "\n",
        "# to solve insitialvalue problem of 1st order by using R-K-2 OR Hun's method method.import pandas as pd\n",
        "import numpy as np\n",
        "import matplotlib.pyplot as plt\n",
        "\n",
        "# Input the differential equation dy/dx = f(x, y)\n",
        "ode = input(\"Enter dy/dx in terms of x and y using Python syntax (e.g., x + y): \")\n",
        "\n",
        "# Define the function that evaluates the ODE\n",
        "def F(x, y, ode):\n",
        "    return eval(ode)\n",
        "\n",
        "# Wrapper for use in RK4\n",
        "def f(x, y):\n",
        "    return F(x, y, ode)\n",
        "\n",
        "# Get initial conditions and step info\n",
        "x = float(input(\"Enter the initial value of x: \"))\n",
        "y = float(input(\"Enter the initial value of y: \"))\n",
        "h = float(input(\"Enter the step size h: \"))\n",
        "n = int(input(\"Enter the number of steps: \"))\n",
        "\n",
        "# Initialize list to store results\n",
        "results = [[x, y]]\n",
        "x_list = [x]\n",
        "y_list = [y]\n",
        "\n",
        "# Runge-Kutta 4th-order method loop\n",
        "for i in range(n):\n",
        "    y_predictor = y + h * f(x, y)\n",
        "    y_corector = y+(h/2)*(f(x,y)+h*f(x+h/2,y_predictor))\n",
        "    x = x+h\n",
        "    y = y_corector\n",
        "    results.append([x, y])\n",
        "    x_list.append(x)\n",
        "    y_list.append(y)\n",
        "    k = h * f(x, y)\n",
        "    y = y + k/6\n",
        "    # k1 = h * f(x, y)\n",
        "    # k2 = h * f(x + h/2, y + k1/2)\n",
        "    # k3 = h * f(x + h/2, y + k2/2)\n",
        "    # k4 = h * f(x + h, y + k3)\n",
        "\n",
        "    # y = y + (1/6) * (k1 + 2*k2 + 2*k3 + k4)  # FIXED parentheses issue here\n",
        "    # x = x + h\n",
        "    # results.append([x, y])\n",
        "    # x_list.append(x)\n",
        "    # y_list.append(y)\n",
        "\n",
        "# Convert to DataFrame\n",
        "df = pd.DataFrame(results, columns=['x', 'y'])\n",
        "\n",
        "# Display results\n",
        "print(\"\\nSolution using RK4 method:\")\n",
        "print(df)\n",
        "\n",
        "#plotting\n",
        "plt.plot(x_list, y_list, label = ode, color = \"red\")\n",
        "plt.legend()\n",
        "plt.grid(True)\n",
        "plt.show()\n"
      ],
      "metadata": {
        "id": "vD1jwFDNmWSO"
      },
      "execution_count": null,
      "outputs": []
    },
    {
      "cell_type": "code",
      "source": [],
      "metadata": {
        "id": "OItGAWpxnYhl"
      },
      "execution_count": null,
      "outputs": []
    }
  ]
}