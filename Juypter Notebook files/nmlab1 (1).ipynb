{
  "nbformat": 4,
  "nbformat_minor": 0,
  "metadata": {
    "colab": {
      "provenance": []
    },
    "kernelspec": {
      "name": "python3",
      "display_name": "Python 3"
    },
    "language_info": {
      "name": "python"
    }
  },
  "cells": [
    {
      "cell_type": "markdown",
      "source": [
        "# To find a real root of a non-linear eqn by bisection method using python"
      ],
      "metadata": {
        "id": "9vho-pv_DVt1"
      }
    },
    {
      "cell_type": "code",
      "execution_count": null,
      "metadata": {
        "id": "iMTeIWwWC1I1"
      },
      "outputs": [],
      "source": [
        "import pandas as pd\n",
        "import numpy as np\n",
        "import matplotlib.pyplot as plt"
      ]
    },
    {
      "cell_type": "code",
      "source": [
        "# To find a real root of a non-linear equation by Bisection method using Python Programming\n",
        "\n",
        "eqn = input(\"Enter the equation in python syntax : \")\n",
        "def F(x,eqn):\n",
        "  return eval(eqn)\n",
        "def f(x):\n",
        "  return F(x,eqn)\n",
        "a = float(input(\"Enter the first initial guess :\"))\n",
        "b = float(input(\"Enter the second initial guess :\"))\n",
        "\n",
        "if f(a)*f(b) > 0 :\n",
        "  print(f\"No root lies in the interval ({a},{b})\")\n",
        "\n",
        "else:\n",
        "  e = float(input(\"Enter the tolerable error : \"))\n",
        "  N = float(input(\"Enter the maximum number of iterations : \"))\n",
        "  i = 1\n",
        "\n",
        "  while i <= N:\n",
        "    c = (a+b)/2\n",
        "    if f(a)*f(c) < 0:\n",
        "      b = c\n",
        "    else:\n",
        "      a = c\n",
        "      error = abs(b-a)\n",
        "      if error < e :\n",
        "        print(f\"The approx root is {(a+b)/2} in {i} iteration.\")\n",
        "        break\n",
        "      i = i + 1\n",
        "    if i > N:\n",
        "      print(f\"Maximum number of iterations exceeded, solution doesn't converge in {N} iterations.\")\n",
        "\n",
        "\n"
      ],
      "metadata": {
        "colab": {
          "base_uri": "https://localhost:8080/"
        },
        "id": "hqNc0ff2Fq5m",
        "outputId": "209a8313-7da5-4acf-a4fe-9f7baafe4f4b"
      },
      "execution_count": null,
      "outputs": [
        {
          "output_type": "stream",
          "name": "stdout",
          "text": [
            "Enter the equation in python syntax : x**2-4*x-10\n",
            "Enter the first initial guess :-2\n",
            "Enter the second initial guess :1\n",
            "Enter the tolerable error : 0.1\n",
            "Enter the maximum number of iterations : 100\n",
            "The approx root is -1.7421875 in 2 iteration.\n"
          ]
        }
      ]
    },
    {
      "cell_type": "code",
      "source": [
        "A=[]\n",
        "itr = 1\n",
        "while itr <=N:\n",
        "  c = (a+b)/2\n",
        "  A.append([itr, a, b, c, f(a), f(b), f(c)])\n",
        "  if f(a)*f(c) < 0:\n",
        "      b = c\n",
        "  else:\n",
        "      a=c\n",
        "      e = abs(b-a)\n",
        "      if error <0:\n",
        "        A = pd.df (A, columns = ['iteration', 'a', 'b', 'c', f(a), f(b), f(c)])\n",
        "        print (A)\n",
        "        print (f'the approx root is {c} in {itr} iterations')\n",
        "        break\n",
        "\n",
        "      itr = itr + 1\n",
        "  if itr > N:\n",
        "    print(f\"Maximum number of iterations exceeded, solution doesn't converge in {N} iterations.\")\n"
      ],
      "metadata": {
        "colab": {
          "base_uri": "https://localhost:8080/"
        },
        "id": "znvF3hmYMJsA",
        "outputId": "64323e08-b041-4313-e9d8-3415c8658886"
      },
      "execution_count": null,
      "outputs": [
        {
          "output_type": "stream",
          "name": "stdout",
          "text": [
            "Maximum number of iterations exceeded, solution doesn't converge in 100.0 iterations.\n"
          ]
        }
      ]
    },
    {
      "cell_type": "code",
      "source": [
        "import pandas as pd\n",
        "\n",
        "def f(x):\n",
        "    return x**3 - x - 2  # Example function, change as needed\n",
        "a = 1  # Left interval\n",
        "b = 2  # Right interval\n",
        "N = 25  # Max iterations\n",
        "tol = 1e-6  # Tolerance\n",
        "\n",
        "A = []  # Store iterations\n",
        "itr = 1\n",
        "\n",
        "\n",
        "while itr <= N:\n",
        "    c = (a + b) / 2\n",
        "    fa = f(a)\n",
        "    fb = f(b)\n",
        "    fc = f(c)\n",
        "\n",
        "    A.append([itr, a, b, c, fa, fb, fc])\n",
        "\n",
        "    if fa * fc < 0:\n",
        "        b = c\n",
        "    else:\n",
        "        a = c\n",
        "\n",
        "    error = abs(b - a)\n",
        "    if error < e:\n",
        "        df = pd.DataFrame(A, columns=['Iteration', 'a', 'b', 'c', 'f(a)', 'f(b)', 'f(c)'])\n",
        "        print(df)\n",
        "        print(f'The approximate root is {c} in {itr} iterations.')\n",
        "        break\n",
        "\n",
        "    itr += 1\n",
        "else:\n",
        "    df = pd.DataFrame(A, columns=['Iteration', 'a', 'b', 'c', 'f(a)', 'f(b)', 'f(c)'])\n",
        "    print(df)\n",
        "    print(\"Maximum iterations reached without achieving desired tolerance.\")\n"
      ],
      "metadata": {
        "colab": {
          "base_uri": "https://localhost:8080/"
        },
        "id": "3OwcB-WIQBXY",
        "outputId": "0514e48d-0436-4b04-c0cb-5ca88370195c"
      },
      "execution_count": null,
      "outputs": [
        {
          "output_type": "stream",
          "name": "stdout",
          "text": [
            "    Iteration         a         b         c          f(a)          f(b)  \\\n",
            "0           1  1.000000  2.000000  1.500000 -2.000000e+00  4.000000e+00   \n",
            "1           2  1.500000  2.000000  1.750000 -1.250000e-01  4.000000e+00   \n",
            "2           3  1.500000  1.750000  1.625000 -1.250000e-01  1.609375e+00   \n",
            "3           4  1.500000  1.625000  1.562500 -1.250000e-01  6.660156e-01   \n",
            "4           5  1.500000  1.562500  1.531250 -1.250000e-01  2.521973e-01   \n",
            "5           6  1.500000  1.531250  1.515625 -1.250000e-01  5.911255e-02   \n",
            "6           7  1.515625  1.531250  1.523438 -3.405380e-02  5.911255e-02   \n",
            "7           8  1.515625  1.523438  1.519531 -3.405380e-02  1.225042e-02   \n",
            "8           9  1.519531  1.523438  1.521484 -1.097125e-02  1.225042e-02   \n",
            "9          10  1.519531  1.521484  1.520508 -1.097125e-02  6.221756e-04   \n",
            "10         11  1.520508  1.521484  1.520996 -5.178886e-03  6.221756e-04   \n",
            "11         12  1.520996  1.521484  1.521240 -2.279443e-03  6.221756e-04   \n",
            "12         13  1.521240  1.521484  1.521362 -8.289059e-04  6.221756e-04   \n",
            "13         14  1.521362  1.521484  1.521423 -1.034331e-04  6.221756e-04   \n",
            "14         15  1.521362  1.521423  1.521393 -1.034331e-04  2.593543e-04   \n",
            "15         16  1.521362  1.521393  1.521378 -1.034331e-04  7.795631e-05   \n",
            "16         17  1.521378  1.521393  1.521385 -1.273947e-05  7.795631e-05   \n",
            "17         18  1.521378  1.521385  1.521381 -1.273947e-05  3.260816e-05   \n",
            "18         19  1.521378  1.521381  1.521379 -1.273947e-05  9.934278e-06   \n",
            "19         20  1.521379  1.521381  1.521380 -1.402611e-06  9.934278e-06   \n",
            "20         21  1.521379  1.521380  1.521380 -1.402611e-06  4.265829e-06   \n",
            "21         22  1.521379  1.521380  1.521380 -1.402611e-06  1.431608e-06   \n",
            "22         23  1.521379  1.521380  1.521380 -1.402611e-06  1.449813e-08   \n",
            "23         24  1.521380  1.521380  1.521380 -6.940566e-07  1.449813e-08   \n",
            "24         25  1.521380  1.521380  1.521380 -3.397793e-07  1.449813e-08   \n",
            "\n",
            "            f(c)  \n",
            "0  -1.250000e-01  \n",
            "1   1.609375e+00  \n",
            "2   6.660156e-01  \n",
            "3   2.521973e-01  \n",
            "4   5.911255e-02  \n",
            "5  -3.405380e-02  \n",
            "6   1.225042e-02  \n",
            "7  -1.097125e-02  \n",
            "8   6.221756e-04  \n",
            "9  -5.178886e-03  \n",
            "10 -2.279443e-03  \n",
            "11 -8.289059e-04  \n",
            "12 -1.034331e-04  \n",
            "13  2.593543e-04  \n",
            "14  7.795631e-05  \n",
            "15 -1.273947e-05  \n",
            "16  3.260816e-05  \n",
            "17  9.934278e-06  \n",
            "18 -1.402611e-06  \n",
            "19  4.265829e-06  \n",
            "20  1.431608e-06  \n",
            "21  1.449813e-08  \n",
            "22 -6.940566e-07  \n",
            "23 -3.397793e-07  \n",
            "24 -1.626406e-07  \n",
            "Maximum iterations reached without achieving desired tolerance.\n"
          ]
        }
      ]
    },
    {
      "cell_type": "code",
      "source": [
        "\n",
        "m = []\n",
        "m = np.array(m)\n",
        "x = np.linspace (0, 1, 1000)\n",
        "plt.plot(x, f(x), color='red', label=eqn)\n",
        "plt.axhline(0,0, color='black')\n",
        "plt.axvline(0,0, color='black')\n",
        "plt.legend()\n",
        "plt.xlabel('x')\n",
        "plt.ylabel('f(x)')\n",
        "plt.grid(True)\n",
        "plt.title('Bisection Method')\n",
        "plt.scatter(m, f(m))\n",
        "for i, val in enumerate(m):\n",
        "    plt.text(f'{val:.2f}', f(val), f'{i+1}')\n",
        "plt.show()"
      ],
      "metadata": {
        "colab": {
          "base_uri": "https://localhost:8080/"
        },
        "id": "nT8EYQwPRzQA",
        "outputId": "00ecc43a-cc73-4d22-f9b5-f7058502f6e1"
      },
      "execution_count": null,
      "outputs": [
        {
          "output_type": "error",
          "ename": "NameError",
          "evalue": "name 'np' is not defined",
          "traceback": [
            "\u001b[0;31m---------------------------------------------------------------------------\u001b[0m",
            "\u001b[0;31mNameError\u001b[0m                                 Traceback (most recent call last)",
            "\u001b[0;32m<ipython-input-1-4266740137>\u001b[0m in \u001b[0;36m<cell line: 0>\u001b[0;34m()\u001b[0m\n\u001b[1;32m      1\u001b[0m \u001b[0mm\u001b[0m \u001b[0;34m=\u001b[0m \u001b[0;34m[\u001b[0m\u001b[0;34m]\u001b[0m\u001b[0;34m\u001b[0m\u001b[0;34m\u001b[0m\u001b[0m\n\u001b[0;32m----> 2\u001b[0;31m \u001b[0mm\u001b[0m \u001b[0;34m=\u001b[0m \u001b[0mnp\u001b[0m\u001b[0;34m.\u001b[0m\u001b[0marray\u001b[0m\u001b[0;34m(\u001b[0m\u001b[0mm\u001b[0m\u001b[0;34m)\u001b[0m\u001b[0;34m\u001b[0m\u001b[0;34m\u001b[0m\u001b[0m\n\u001b[0m\u001b[1;32m      3\u001b[0m \u001b[0mx\u001b[0m \u001b[0;34m=\u001b[0m \u001b[0mnp\u001b[0m\u001b[0;34m.\u001b[0m\u001b[0mlinspace\u001b[0m \u001b[0;34m(\u001b[0m\u001b[0;36m0\u001b[0m\u001b[0;34m,\u001b[0m \u001b[0;36m1\u001b[0m\u001b[0;34m,\u001b[0m \u001b[0;36m1000\u001b[0m\u001b[0;34m)\u001b[0m\u001b[0;34m\u001b[0m\u001b[0;34m\u001b[0m\u001b[0m\n\u001b[1;32m      4\u001b[0m \u001b[0mplt\u001b[0m\u001b[0;34m.\u001b[0m\u001b[0mplot\u001b[0m\u001b[0;34m(\u001b[0m\u001b[0mx\u001b[0m\u001b[0;34m,\u001b[0m \u001b[0mf\u001b[0m\u001b[0;34m(\u001b[0m\u001b[0mx\u001b[0m\u001b[0;34m)\u001b[0m\u001b[0;34m,\u001b[0m \u001b[0mcolor\u001b[0m\u001b[0;34m=\u001b[0m\u001b[0;34m'red'\u001b[0m\u001b[0;34m,\u001b[0m \u001b[0mlabel\u001b[0m\u001b[0;34m=\u001b[0m\u001b[0meqn\u001b[0m\u001b[0;34m)\u001b[0m\u001b[0;34m\u001b[0m\u001b[0;34m\u001b[0m\u001b[0m\n\u001b[1;32m      5\u001b[0m \u001b[0mplt\u001b[0m\u001b[0;34m.\u001b[0m\u001b[0maxhline\u001b[0m\u001b[0;34m(\u001b[0m\u001b[0;36m0\u001b[0m\u001b[0;34m,\u001b[0m\u001b[0;36m0\u001b[0m\u001b[0;34m,\u001b[0m \u001b[0mcolor\u001b[0m\u001b[0;34m=\u001b[0m\u001b[0;34m'black'\u001b[0m\u001b[0;34m)\u001b[0m\u001b[0;34m\u001b[0m\u001b[0;34m\u001b[0m\u001b[0m\n",
            "\u001b[0;31mNameError\u001b[0m: name 'np' is not defined"
          ]
        }
      ]
    },
    {
      "cell_type": "code",
      "source": [],
      "metadata": {
        "id": "_9BcAdEhRPYy"
      },
      "execution_count": null,
      "outputs": []
    }
  ]
}