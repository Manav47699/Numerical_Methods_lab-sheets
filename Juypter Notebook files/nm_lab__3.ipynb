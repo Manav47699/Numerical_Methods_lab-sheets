{
  "nbformat": 4,
  "nbformat_minor": 0,
  "metadata": {
    "colab": {
      "provenance": []
    },
    "kernelspec": {
      "name": "python3",
      "display_name": "Python 3"
    },
    "language_info": {
      "name": "python"
    }
  },
  "cells": [
    {
      "cell_type": "code",
      "execution_count": null,
      "metadata": {
        "id": "vKP1BXkTHy1a"
      },
      "outputs": [],
      "source": [
        "import pandas as pd\n",
        "import math\n",
        "import numpy as np\n",
        "import matplotlib.pyplot as plt\n",
        "import seaborn as sns"
      ]
    },
    {
      "cell_type": "code",
      "source": [
        "#to solve system of linear equation by gauss-elimination with partial pivoting\n",
        "n = int(input(\"Enter augumented matrix\"))\n",
        "A = []\n",
        "for i in range(n):\n",
        "  A.append (list(map(float, input(\"Enter {i+1}th row: split()\"))))\n",
        "A = np.array(A)\n",
        "print (\"the augu,emted ,atric is :\", A)\n",
        "\n",
        "for i in range(n):\n",
        "  p_row = np.argmax(abs(A[i:,i]))+i\n",
        "  A[[i, p_row]] = A[[p_row, i]]\n",
        "  for j in range(i+1,n):\n",
        "    A[j] = A[j] - A[j,i] * A[i]/A[j]\n",
        "print (\"The upper triangular matrix is:\")\n",
        "print (np.matrix[A])\n",
        "x = np.zero(n)\n",
        "for i in range (n-1, -1, -1):\n",
        "  if j != i:\n",
        "    x[i] = (A[i, -i] - np.sum(A[i, j]* x[j])/A[i,j])\n",
        "print (\"The solution is:\")\n",
        "print (x)\n",
        "for i in range(n):\n",
        "  print (f'x{i+1} = {x[i]}')\n",
        "\n"
      ],
      "metadata": {
        "colab": {
          "base_uri": "https://localhost:8080/",
          "height": 356
        },
        "id": "AbaCNOYHJnvh",
        "outputId": "a3a54433-1102-41b2-97cf-5c13c252357b"
      },
      "execution_count": null,
      "outputs": [
        {
          "output_type": "error",
          "ename": "KeyboardInterrupt",
          "evalue": "Interrupted by user",
          "traceback": [
            "\u001b[0;31m---------------------------------------------------------------------------\u001b[0m",
            "\u001b[0;31mKeyboardInterrupt\u001b[0m                         Traceback (most recent call last)",
            "\u001b[0;32m<ipython-input-5-3820683561>\u001b[0m in \u001b[0;36m<cell line: 0>\u001b[0;34m()\u001b[0m\n\u001b[1;32m      1\u001b[0m \u001b[0;31m#to solve system of linear equation by gauss-elimination with partial pivoting\u001b[0m\u001b[0;34m\u001b[0m\u001b[0;34m\u001b[0m\u001b[0m\n\u001b[0;32m----> 2\u001b[0;31m \u001b[0mn\u001b[0m \u001b[0;34m=\u001b[0m \u001b[0mint\u001b[0m\u001b[0;34m(\u001b[0m\u001b[0minput\u001b[0m\u001b[0;34m(\u001b[0m\u001b[0;34m\"Enter augumented matrix\"\u001b[0m\u001b[0;34m)\u001b[0m\u001b[0;34m)\u001b[0m\u001b[0;34m\u001b[0m\u001b[0;34m\u001b[0m\u001b[0m\n\u001b[0m\u001b[1;32m      3\u001b[0m \u001b[0mA\u001b[0m \u001b[0;34m=\u001b[0m \u001b[0;34m[\u001b[0m\u001b[0;34m]\u001b[0m\u001b[0;34m\u001b[0m\u001b[0;34m\u001b[0m\u001b[0m\n\u001b[1;32m      4\u001b[0m \u001b[0;32mfor\u001b[0m \u001b[0mi\u001b[0m \u001b[0;32min\u001b[0m \u001b[0mrange\u001b[0m\u001b[0;34m(\u001b[0m\u001b[0mn\u001b[0m\u001b[0;34m)\u001b[0m\u001b[0;34m:\u001b[0m\u001b[0;34m\u001b[0m\u001b[0;34m\u001b[0m\u001b[0m\n\u001b[1;32m      5\u001b[0m   \u001b[0mA\u001b[0m\u001b[0;34m.\u001b[0m\u001b[0mappend\u001b[0m \u001b[0;34m(\u001b[0m\u001b[0mlist\u001b[0m\u001b[0;34m(\u001b[0m\u001b[0mmap\u001b[0m\u001b[0;34m(\u001b[0m\u001b[0mfloat\u001b[0m\u001b[0;34m,\u001b[0m \u001b[0minput\u001b[0m\u001b[0;34m(\u001b[0m\u001b[0;34m\"Enter {i+1}th row: split()\"\u001b[0m\u001b[0;34m)\u001b[0m\u001b[0;34m)\u001b[0m\u001b[0;34m)\u001b[0m\u001b[0;34m)\u001b[0m\u001b[0;34m\u001b[0m\u001b[0;34m\u001b[0m\u001b[0m\n",
            "\u001b[0;32m/usr/local/lib/python3.11/dist-packages/ipykernel/kernelbase.py\u001b[0m in \u001b[0;36mraw_input\u001b[0;34m(self, prompt)\u001b[0m\n\u001b[1;32m   1175\u001b[0m                 \u001b[0;34m\"raw_input was called, but this frontend does not support input requests.\"\u001b[0m\u001b[0;34m\u001b[0m\u001b[0;34m\u001b[0m\u001b[0m\n\u001b[1;32m   1176\u001b[0m             )\n\u001b[0;32m-> 1177\u001b[0;31m         return self._input_request(\n\u001b[0m\u001b[1;32m   1178\u001b[0m             \u001b[0mstr\u001b[0m\u001b[0;34m(\u001b[0m\u001b[0mprompt\u001b[0m\u001b[0;34m)\u001b[0m\u001b[0;34m,\u001b[0m\u001b[0;34m\u001b[0m\u001b[0;34m\u001b[0m\u001b[0m\n\u001b[1;32m   1179\u001b[0m             \u001b[0mself\u001b[0m\u001b[0;34m.\u001b[0m\u001b[0m_parent_ident\u001b[0m\u001b[0;34m[\u001b[0m\u001b[0;34m\"shell\"\u001b[0m\u001b[0;34m]\u001b[0m\u001b[0;34m,\u001b[0m\u001b[0;34m\u001b[0m\u001b[0;34m\u001b[0m\u001b[0m\n",
            "\u001b[0;32m/usr/local/lib/python3.11/dist-packages/ipykernel/kernelbase.py\u001b[0m in \u001b[0;36m_input_request\u001b[0;34m(self, prompt, ident, parent, password)\u001b[0m\n\u001b[1;32m   1217\u001b[0m             \u001b[0;32mexcept\u001b[0m \u001b[0mKeyboardInterrupt\u001b[0m\u001b[0;34m:\u001b[0m\u001b[0;34m\u001b[0m\u001b[0;34m\u001b[0m\u001b[0m\n\u001b[1;32m   1218\u001b[0m                 \u001b[0;31m# re-raise KeyboardInterrupt, to truncate traceback\u001b[0m\u001b[0;34m\u001b[0m\u001b[0;34m\u001b[0m\u001b[0m\n\u001b[0;32m-> 1219\u001b[0;31m                 \u001b[0;32mraise\u001b[0m \u001b[0mKeyboardInterrupt\u001b[0m\u001b[0;34m(\u001b[0m\u001b[0;34m\"Interrupted by user\"\u001b[0m\u001b[0;34m)\u001b[0m \u001b[0;32mfrom\u001b[0m \u001b[0;32mNone\u001b[0m\u001b[0;34m\u001b[0m\u001b[0;34m\u001b[0m\u001b[0m\n\u001b[0m\u001b[1;32m   1220\u001b[0m             \u001b[0;32mexcept\u001b[0m \u001b[0mException\u001b[0m\u001b[0;34m:\u001b[0m\u001b[0;34m\u001b[0m\u001b[0;34m\u001b[0m\u001b[0m\n\u001b[1;32m   1221\u001b[0m                 \u001b[0mself\u001b[0m\u001b[0;34m.\u001b[0m\u001b[0mlog\u001b[0m\u001b[0;34m.\u001b[0m\u001b[0mwarning\u001b[0m\u001b[0;34m(\u001b[0m\u001b[0;34m\"Invalid Message:\"\u001b[0m\u001b[0;34m,\u001b[0m \u001b[0mexc_info\u001b[0m\u001b[0;34m=\u001b[0m\u001b[0;32mTrue\u001b[0m\u001b[0;34m)\u001b[0m\u001b[0;34m\u001b[0m\u001b[0;34m\u001b[0m\u001b[0m\n",
            "\u001b[0;31mKeyboardInterrupt\u001b[0m: Interrupted by user"
          ]
        }
      ]
    },
    {
      "cell_type": "code",
      "source": [
        "import numpy as np\n",
        "\n",
        "# Step 1: Input augmented matrix\n",
        "n = int(input(\"Enter number of unknowns (n): \"))\n",
        "A = []\n",
        "for i in range(n):\n",
        "    row = list(map(float, input(f\"Enter row {i+1} (space-separated, including constants): \").split()))\n",
        "    A.append(row)\n",
        "\n",
        "A = np.array(A)\n",
        "print(\"The augmented matrix is:\\n\", A)\n",
        "\n",
        "# Step 2: Forward Elimination with Partial Pivoting\n",
        "for i in range(n):\n",
        "    # Partial Pivoting\n",
        "    p_row = np.argmax(abs(A[i:, i])) + i\n",
        "    if A[p_row, i] == 0:\n",
        "        raise ValueError(\"Matrix is singular or nearly singular.\")\n",
        "    A[[i, p_row]] = A[[p_row, i]]\n",
        "\n",
        "    for j in range(i + 1, n):\n",
        "        factor = A[j, i] / A[i, i]\n",
        "        A[j] = A[j] - factor * A[i]\n",
        "\n",
        "print(\"The upper triangular matrix is:\\n\", A)\n",
        "\n",
        "# Step 3: Back Substitution\n",
        "x = np.zeros(n)\n",
        "for i in range(n - 1, -1, -1):\n",
        "    x[i] = (A[i, -1] - np.dot(A[i, i+1:n], x[i+1:n])) / A[i, i]\n",
        "\n",
        "# Step 4: Output solution\n",
        "print(\"The solution is:\")\n",
        "for i in range(n):\n",
        "    print(f\"x{i+1} = {x[i]}\")\n"
      ],
      "metadata": {
        "colab": {
          "base_uri": "https://localhost:8080/"
        },
        "id": "8QABGbIaUPaW",
        "outputId": "29d49688-fc32-4da4-d9ba-4344ffb76f9b"
      },
      "execution_count": null,
      "outputs": [
        {
          "output_type": "stream",
          "name": "stdout",
          "text": [
            "Enter number of unknowns (n): 4\n",
            "Enter row 1 (space-separated, including constants): 1 -2 3 1\n",
            "Enter row 2 (space-separated, including constants): 4 1 -1 -3\n",
            "Enter row 3 (space-separated, including constants): 2 -3 4 2\n",
            "Enter row 4 (space-separated, including constants): 3 2 -1 -1\n",
            "The augmented matrix is:\n",
            " [[ 1. -2.  3.  1.]\n",
            " [ 4.  1. -1. -3.]\n",
            " [ 2. -3.  4.  2.]\n",
            " [ 3.  2. -1. -1.]]\n",
            "The upper triangular matrix is:\n",
            " [[ 4.          1.         -1.         -3.        ]\n",
            " [ 0.         -3.5         4.5         3.5       ]\n",
            " [ 0.          0.          1.35714286  2.5       ]\n",
            " [ 0.          0.          0.         -1.15789474]]\n",
            "The solution is:\n",
            "x1 = 0.0\n",
            "x2 = -0.0\n",
            "x3 = 0.0\n",
            "x4 = 1.0\n"
          ]
        }
      ]
    },
    {
      "cell_type": "code",
      "source": [],
      "metadata": {
        "id": "_zz6I0d2Up1j"
      },
      "execution_count": null,
      "outputs": []
    }
  ]
}