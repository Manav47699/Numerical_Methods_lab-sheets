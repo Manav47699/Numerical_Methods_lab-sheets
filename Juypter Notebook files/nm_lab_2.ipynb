{
  "nbformat": 4,
  "nbformat_minor": 0,
  "metadata": {
    "colab": {
      "provenance": []
    },
    "kernelspec": {
      "name": "python3",
      "display_name": "Python 3"
    },
    "language_info": {
      "name": "python"
    }
  },
  "cells": [
    {
      "cell_type": "code",
      "execution_count": null,
      "metadata": {
        "id": "985qsR0kGvxp"
      },
      "outputs": [],
      "source": [
        "import pandas as pd\n",
        "import numpy as np\n",
        "import matplotlib.pyplot as plt\n",
        "import seaborn as sns\n",
        "import math\n",
        "#"
      ]
    },
    {
      "cell_type": "code",
      "source": [
        "#finding the real root of a non-linear eqn by secant method\n",
        "eqn = input(\"enter the eqn using python syntax: \")\n",
        "def F(x, eqn):\n",
        "\n",
        "  return eval(eqn, {\"x\": x, \"math\":math})\n",
        "def f(x):\n",
        "  return F(x, eqn)\n",
        "\n",
        "a = float(input(\"Enter the 1st inital value\"))\n",
        "b = float(input(\"enter the 2nd initial value\"))\n",
        "m = []\n",
        "\n",
        "if f(a) == f(b):\n",
        "  print(\"The value becomes infinite, please try another values\")\n",
        "\n",
        "else:\n",
        "  e = float(input(\"Enter the tolorable errror:\"))\n",
        "  N = int(input(\"Enter the maximum number of iterations\"))\n",
        "  itr = 1\n",
        "  while itr <= N:\n",
        "    c = a*f(b) - b*f(a) / f(b) - f(a)\n",
        "    m.append(c)\n",
        "    err= abs (f(c))\n",
        "    if err < e:\n",
        "      print(f\"The approximate root is {c} found in {itr} iterations(max iterations was {N}\")\n",
        "      i = itr\n",
        "      break\n",
        "\n",
        "\n",
        "    if f(a) == f(b):\n",
        "      print (\"Division by zero is not possible, please try another value\")\n",
        "    a, b = b, c\n",
        "    itr += 1\n",
        "  if itr > N:\n",
        "    print(\"max iterations reached, no convergence yet\")\n",
        "\n",
        "print(f\"the approx root is {c} in {i} iterations(max iterations was {N})\")"
      ],
      "metadata": {
        "colab": {
          "base_uri": "https://localhost:8080/",
          "height": 478
        },
        "id": "gThEUevsG2zQ",
        "outputId": "bc79beee-5d1d-4d5f-a4c1-bc222986b3a0"
      },
      "execution_count": null,
      "outputs": [
        {
          "name": "stdout",
          "output_type": "stream",
          "text": [
            "enter the eqn using python syntax: math.exp(x)-math.sin(x)-9\n",
            "Enter the 1st inital value0\n",
            "enter the 2nd initial value1.3\n",
            "Enter the tolorable errror:0.001\n",
            "Enter the maximum number of iterations100\n"
          ]
        },
        {
          "output_type": "error",
          "ename": "OverflowError",
          "evalue": "math range error",
          "traceback": [
            "\u001b[0;31m---------------------------------------------------------------------------\u001b[0m",
            "\u001b[0;31mOverflowError\u001b[0m                             Traceback (most recent call last)",
            "\u001b[0;32m<ipython-input-13-2441072394>\u001b[0m in \u001b[0;36m<cell line: 0>\u001b[0;34m()\u001b[0m\n\u001b[1;32m     21\u001b[0m     \u001b[0mc\u001b[0m \u001b[0;34m=\u001b[0m \u001b[0ma\u001b[0m\u001b[0;34m*\u001b[0m\u001b[0mf\u001b[0m\u001b[0;34m(\u001b[0m\u001b[0mb\u001b[0m\u001b[0;34m)\u001b[0m \u001b[0;34m-\u001b[0m \u001b[0mb\u001b[0m\u001b[0;34m*\u001b[0m\u001b[0mf\u001b[0m\u001b[0;34m(\u001b[0m\u001b[0ma\u001b[0m\u001b[0;34m)\u001b[0m \u001b[0;34m/\u001b[0m \u001b[0mf\u001b[0m\u001b[0;34m(\u001b[0m\u001b[0mb\u001b[0m\u001b[0;34m)\u001b[0m \u001b[0;34m-\u001b[0m \u001b[0mf\u001b[0m\u001b[0;34m(\u001b[0m\u001b[0ma\u001b[0m\u001b[0;34m)\u001b[0m\u001b[0;34m\u001b[0m\u001b[0;34m\u001b[0m\u001b[0m\n\u001b[1;32m     22\u001b[0m     \u001b[0mm\u001b[0m\u001b[0;34m.\u001b[0m\u001b[0mappend\u001b[0m\u001b[0;34m(\u001b[0m\u001b[0mc\u001b[0m\u001b[0;34m)\u001b[0m\u001b[0;34m\u001b[0m\u001b[0;34m\u001b[0m\u001b[0m\n\u001b[0;32m---> 23\u001b[0;31m     \u001b[0merr\u001b[0m\u001b[0;34m=\u001b[0m \u001b[0mabs\u001b[0m \u001b[0;34m(\u001b[0m\u001b[0mf\u001b[0m\u001b[0;34m(\u001b[0m\u001b[0mc\u001b[0m\u001b[0;34m)\u001b[0m\u001b[0;34m)\u001b[0m\u001b[0;34m\u001b[0m\u001b[0;34m\u001b[0m\u001b[0m\n\u001b[0m\u001b[1;32m     24\u001b[0m     \u001b[0;32mif\u001b[0m \u001b[0merr\u001b[0m \u001b[0;34m<\u001b[0m \u001b[0me\u001b[0m\u001b[0;34m:\u001b[0m\u001b[0;34m\u001b[0m\u001b[0;34m\u001b[0m\u001b[0m\n\u001b[1;32m     25\u001b[0m       \u001b[0mprint\u001b[0m\u001b[0;34m(\u001b[0m\u001b[0;34mf\"The approximate root is {c} found in {itr} iterations(max iterations was {N}\"\u001b[0m\u001b[0;34m)\u001b[0m\u001b[0;34m\u001b[0m\u001b[0;34m\u001b[0m\u001b[0m\n",
            "\u001b[0;32m<ipython-input-13-2441072394>\u001b[0m in \u001b[0;36mf\u001b[0;34m(x)\u001b[0m\n\u001b[1;32m      5\u001b[0m   \u001b[0;32mreturn\u001b[0m \u001b[0meval\u001b[0m\u001b[0;34m(\u001b[0m\u001b[0meqn\u001b[0m\u001b[0;34m,\u001b[0m \u001b[0;34m{\u001b[0m\u001b[0;34m\"x\"\u001b[0m\u001b[0;34m:\u001b[0m \u001b[0mx\u001b[0m\u001b[0;34m,\u001b[0m \u001b[0;34m\"math\"\u001b[0m\u001b[0;34m:\u001b[0m\u001b[0mmath\u001b[0m\u001b[0;34m}\u001b[0m\u001b[0;34m)\u001b[0m\u001b[0;34m\u001b[0m\u001b[0;34m\u001b[0m\u001b[0m\n\u001b[1;32m      6\u001b[0m \u001b[0;32mdef\u001b[0m \u001b[0mf\u001b[0m\u001b[0;34m(\u001b[0m\u001b[0mx\u001b[0m\u001b[0;34m)\u001b[0m\u001b[0;34m:\u001b[0m\u001b[0;34m\u001b[0m\u001b[0;34m\u001b[0m\u001b[0m\n\u001b[0;32m----> 7\u001b[0;31m   \u001b[0;32mreturn\u001b[0m \u001b[0mF\u001b[0m\u001b[0;34m(\u001b[0m\u001b[0mx\u001b[0m\u001b[0;34m,\u001b[0m \u001b[0meqn\u001b[0m\u001b[0;34m)\u001b[0m\u001b[0;34m\u001b[0m\u001b[0;34m\u001b[0m\u001b[0m\n\u001b[0m\u001b[1;32m      8\u001b[0m \u001b[0;34m\u001b[0m\u001b[0m\n\u001b[1;32m      9\u001b[0m \u001b[0ma\u001b[0m \u001b[0;34m=\u001b[0m \u001b[0mfloat\u001b[0m\u001b[0;34m(\u001b[0m\u001b[0minput\u001b[0m\u001b[0;34m(\u001b[0m\u001b[0;34m\"Enter the 1st inital value\"\u001b[0m\u001b[0;34m)\u001b[0m\u001b[0;34m)\u001b[0m\u001b[0;34m\u001b[0m\u001b[0;34m\u001b[0m\u001b[0m\n",
            "\u001b[0;32m<ipython-input-13-2441072394>\u001b[0m in \u001b[0;36mF\u001b[0;34m(x, eqn)\u001b[0m\n\u001b[1;32m      3\u001b[0m \u001b[0;32mdef\u001b[0m \u001b[0mF\u001b[0m\u001b[0;34m(\u001b[0m\u001b[0mx\u001b[0m\u001b[0;34m,\u001b[0m \u001b[0meqn\u001b[0m\u001b[0;34m)\u001b[0m\u001b[0;34m:\u001b[0m\u001b[0;34m\u001b[0m\u001b[0;34m\u001b[0m\u001b[0m\n\u001b[1;32m      4\u001b[0m \u001b[0;34m\u001b[0m\u001b[0m\n\u001b[0;32m----> 5\u001b[0;31m   \u001b[0;32mreturn\u001b[0m \u001b[0meval\u001b[0m\u001b[0;34m(\u001b[0m\u001b[0meqn\u001b[0m\u001b[0;34m,\u001b[0m \u001b[0;34m{\u001b[0m\u001b[0;34m\"x\"\u001b[0m\u001b[0;34m:\u001b[0m \u001b[0mx\u001b[0m\u001b[0;34m,\u001b[0m \u001b[0;34m\"math\"\u001b[0m\u001b[0;34m:\u001b[0m\u001b[0mmath\u001b[0m\u001b[0;34m}\u001b[0m\u001b[0;34m)\u001b[0m\u001b[0;34m\u001b[0m\u001b[0;34m\u001b[0m\u001b[0m\n\u001b[0m\u001b[1;32m      6\u001b[0m \u001b[0;32mdef\u001b[0m \u001b[0mf\u001b[0m\u001b[0;34m(\u001b[0m\u001b[0mx\u001b[0m\u001b[0;34m)\u001b[0m\u001b[0;34m:\u001b[0m\u001b[0;34m\u001b[0m\u001b[0;34m\u001b[0m\u001b[0m\n\u001b[1;32m      7\u001b[0m   \u001b[0;32mreturn\u001b[0m \u001b[0mF\u001b[0m\u001b[0;34m(\u001b[0m\u001b[0mx\u001b[0m\u001b[0;34m,\u001b[0m \u001b[0meqn\u001b[0m\u001b[0;34m)\u001b[0m\u001b[0;34m\u001b[0m\u001b[0;34m\u001b[0m\u001b[0m\n",
            "\u001b[0;32m<string>\u001b[0m in \u001b[0;36m<module>\u001b[0;34m\u001b[0m\n",
            "\u001b[0;31mOverflowError\u001b[0m: math range error"
          ]
        }
      ]
    },
    {
      "cell_type": "markdown",
      "source": [
        "Secant chat\n"
      ],
      "metadata": {
        "id": "UsKsj1axL1zc"
      }
    },
    {
      "cell_type": "code",
      "source": [
        "import math\n",
        "\n",
        "# Function to evaluate the equation\n",
        "def F(x, eqn):\n",
        "    return eval(eqn, {\"x\": x, \"math\": math})\n",
        "\n",
        "# Secant method function\n",
        "def secant_method(eqn, a, b, tolerance, max_iter):\n",
        "    itr = 1\n",
        "    while itr <= max_iter:\n",
        "        fa = F(a, eqn)\n",
        "        fb = F(b, eqn)\n",
        "\n",
        "        # Check for division by zero\n",
        "        if fb == fa:\n",
        "            print(\"Division by zero is not possible, please try another values\")\n",
        "            return None, itr\n",
        "\n",
        "        # Secant method formula\n",
        "        c = b - fb * (b - a) / (fb - fa)\n",
        "        m.append(c)\n",
        "        # Calculate error\n",
        "        err = abs(F(c, eqn))\n",
        "\n",
        "        # If the error is within tolerance, stop\n",
        "        if err < tolerance:\n",
        "            return c, itr\n",
        "\n",
        "        # Update for the next iteration\n",
        "        a, b = b, c\n",
        "        itr += 1\n",
        "\n",
        "    print(\"Max iterations reached, no convergence yet\")\n",
        "    return None, itr\n",
        "\n",
        "# Main program\n",
        "eqn = input(\"Enter the equation using Python syntax (e.g., x**2 - 4): \")\n",
        "a = float(input(\"Enter the 1st initial value: \"))\n",
        "b = float(input(\"Enter the 2nd initial value: \"))\n",
        "tolerance = float(input(\"Enter the tolerable error: \"))\n",
        "max_iter = int(input(\"Enter the maximum number of iterations: \"))\n",
        "m = []\n",
        "\n",
        "# Call secant method\n",
        "root, iterations = secant_method(eqn, a, b, tolerance, max_iter)\n",
        "\n",
        "if root is not None:\n",
        "    print(f\"The approximate root is {root} found in {iterations} iterations (max iterations was {max_iter})\")\n"
      ],
      "metadata": {
        "colab": {
          "base_uri": "https://localhost:8080/"
        },
        "id": "bpfrp7PTKLYR",
        "outputId": "02d50237-ea33-4179-ed85-e8e73694f35d"
      },
      "execution_count": null,
      "outputs": [
        {
          "output_type": "stream",
          "name": "stdout",
          "text": [
            "Enter the equation using Python syntax (e.g., x**2 - 4): math.exp(x)-math.sin(x)-9\n",
            "Enter the 1st initial value: 0\n",
            "Enter the 2nd initial value: 2\n",
            "Enter the tolerable error: 0.001\n",
            "Enter the maximum number of iterations: 100\n",
            "The approximate root is 2.27827945504089 found in 5 iterations (max iterations was 100)\n"
          ]
        }
      ]
    },
    {
      "cell_type": "code",
      "source": [
        "import math\n",
        "\n",
        "# Function to evaluate the equation safely\n",
        "def F(x, eqn):\n",
        "    return eval(eqn, {\"x\": x, \"math\": math})\n",
        "\n",
        "# Function to evaluate f(x)\n",
        "def f(x, eqn):\n",
        "    return F(x, eqn)\n",
        "\n",
        "# Input for equation and initial guesses\n",
        "eqn = input(\"Enter the equation using Python syntax (e.g., x**2 - 4, math.sin(x) - 0.5): \")\n",
        "a = float(input(\"Enter the 1st initial value: \"))\n",
        "b = float(input(\"Enter the 2nd initial value: \"))\n",
        "m = []\n",
        "\n",
        "# Check if f(a) and f(b) are the same (or if any is zero)\n",
        "if f(a, eqn) == f(b, eqn):\n",
        "    print(\"The values of f(a) and f(b) are the same, which might lead to division by zero. Please try other initial values.\")\n",
        "else:\n",
        "    # Tolerable error and max iterations\n",
        "    e = float(input(\"Enter the tolerable error: \"))\n",
        "    N = int(input(\"Enter the maximum number of iterations: \"))\n",
        "    itr = 1\n",
        "\n",
        "    # Secant method loop\n",
        "    while itr <= N:\n",
        "        # Secant method formula\n",
        "        fa = f(a, eqn)\n",
        "        fb = f(b, eqn)\n",
        "\n",
        "        # Avoid division by zero or large function values\n",
        "        if fb == fa:\n",
        "            print(\"Division by zero (f(a) == f(b)), try different initial values.\")\n",
        "            break\n",
        "\n",
        "        # Calculate the new approximation (Secant method formula)\n",
        "        c = b - fb * (b - a) / (fb - fa)\n",
        "        m.append(c)  # Store the approximation\n",
        "\n",
        "        # Check error (convergence)\n",
        "        err = abs(f(c, eqn))\n",
        "\n",
        "        if err < e:\n",
        "            print(f\"The approximate root is {c} found in {itr} iterations (max iterations was {N})\")\n",
        "            break\n",
        "\n",
        "        # Update for the next iteration\n",
        "        a, b = b, c\n",
        "        itr += 1\n",
        "\n",
        "    # If max iterations reached without convergence\n",
        "    if itr > N:\n",
        "        print(\"Max iterations reached, no convergence yet\")\n",
        "\n",
        "# Print the final approximation\n",
        "print(f\"The approximate root is {c} in {itr} iterations (max iterations was {N})\")\n"
      ],
      "metadata": {
        "colab": {
          "base_uri": "https://localhost:8080/"
        },
        "id": "i18T3n3PSW9R",
        "outputId": "ab4b175c-b3fe-4673-8b16-70fc3c1dba60"
      },
      "execution_count": null,
      "outputs": [
        {
          "output_type": "stream",
          "name": "stdout",
          "text": [
            "Enter the equation using Python syntax (e.g., x**2 - 4, math.sin(x) - 0.5): math.exp(x)-math.sin(x)-9\n",
            "Enter the 1st initial value: 0\n",
            "Enter the 2nd initial value: 1.3\n",
            "Enter the tolerable error: 0.001\n",
            "Enter the maximum number of iterations: 100\n",
            "The approximate root is 2.27828828824781 found in 9 iterations (max iterations was 100)\n",
            "The approximate root is 2.27828828824781 in 9 iterations (max iterations was 100)\n"
          ]
        }
      ]
    },
    {
      "cell_type": "markdown",
      "source": [],
      "metadata": {
        "id": "ylJivFkiSWpp"
      }
    },
    {
      "cell_type": "code",
      "source": [
        "m = []\n",
        "m = np.array(m)\n",
        "x = np.linspace (0, 1, 1000)\n",
        "plt.plot (x, f(x), color = 'r', label = eqn)\n",
        "plt.legend()\n",
        "plt.scatter(m, f(m), color = 'b')\n",
        "plt.show()"
      ],
      "metadata": {
        "colab": {
          "base_uri": "https://localhost:8080/",
          "height": 211
        },
        "id": "uUYWJJNhNg7l",
        "outputId": "b3d054fb-6311-4766-f30d-9b0ea17019cd"
      },
      "execution_count": null,
      "outputs": [
        {
          "output_type": "error",
          "ename": "TypeError",
          "evalue": "f() missing 1 required positional argument: 'eqn'",
          "traceback": [
            "\u001b[0;31m---------------------------------------------------------------------------\u001b[0m",
            "\u001b[0;31mTypeError\u001b[0m                                 Traceback (most recent call last)",
            "\u001b[0;32m<ipython-input-23-2338399046>\u001b[0m in \u001b[0;36m<cell line: 0>\u001b[0;34m()\u001b[0m\n\u001b[1;32m      2\u001b[0m \u001b[0mm\u001b[0m \u001b[0;34m=\u001b[0m \u001b[0mnp\u001b[0m\u001b[0;34m.\u001b[0m\u001b[0marray\u001b[0m\u001b[0;34m(\u001b[0m\u001b[0mm\u001b[0m\u001b[0;34m)\u001b[0m\u001b[0;34m\u001b[0m\u001b[0;34m\u001b[0m\u001b[0m\n\u001b[1;32m      3\u001b[0m \u001b[0mx\u001b[0m \u001b[0;34m=\u001b[0m \u001b[0mnp\u001b[0m\u001b[0;34m.\u001b[0m\u001b[0mlinspace\u001b[0m \u001b[0;34m(\u001b[0m\u001b[0;36m0\u001b[0m\u001b[0;34m,\u001b[0m \u001b[0;36m1\u001b[0m\u001b[0;34m,\u001b[0m \u001b[0;36m1000\u001b[0m\u001b[0;34m)\u001b[0m\u001b[0;34m\u001b[0m\u001b[0;34m\u001b[0m\u001b[0m\n\u001b[0;32m----> 4\u001b[0;31m \u001b[0mplt\u001b[0m\u001b[0;34m.\u001b[0m\u001b[0mplot\u001b[0m \u001b[0;34m(\u001b[0m\u001b[0mx\u001b[0m\u001b[0;34m,\u001b[0m \u001b[0mf\u001b[0m\u001b[0;34m(\u001b[0m\u001b[0mx\u001b[0m\u001b[0;34m)\u001b[0m\u001b[0;34m,\u001b[0m \u001b[0mcolor\u001b[0m \u001b[0;34m=\u001b[0m \u001b[0;34m'r'\u001b[0m\u001b[0;34m,\u001b[0m \u001b[0mlabel\u001b[0m \u001b[0;34m=\u001b[0m \u001b[0meqn\u001b[0m\u001b[0;34m)\u001b[0m\u001b[0;34m\u001b[0m\u001b[0;34m\u001b[0m\u001b[0m\n\u001b[0m\u001b[1;32m      5\u001b[0m \u001b[0mplt\u001b[0m\u001b[0;34m.\u001b[0m\u001b[0mlegend\u001b[0m\u001b[0;34m(\u001b[0m\u001b[0;34m)\u001b[0m\u001b[0;34m\u001b[0m\u001b[0;34m\u001b[0m\u001b[0m\n\u001b[1;32m      6\u001b[0m \u001b[0mplt\u001b[0m\u001b[0;34m.\u001b[0m\u001b[0mscatter\u001b[0m\u001b[0;34m(\u001b[0m\u001b[0mm\u001b[0m\u001b[0;34m,\u001b[0m \u001b[0mf\u001b[0m\u001b[0;34m(\u001b[0m\u001b[0mm\u001b[0m\u001b[0;34m)\u001b[0m\u001b[0;34m,\u001b[0m \u001b[0mcolor\u001b[0m \u001b[0;34m=\u001b[0m \u001b[0;34m'b'\u001b[0m\u001b[0;34m)\u001b[0m\u001b[0;34m\u001b[0m\u001b[0;34m\u001b[0m\u001b[0m\n",
            "\u001b[0;31mTypeError\u001b[0m: f() missing 1 required positional argument: 'eqn'"
          ]
        }
      ]
    },
    {
      "cell_type": "markdown",
      "source": [
        "COMPLETE\n",
        "SECENT"
      ],
      "metadata": {
        "id": "cBVVlxBORWf-"
      }
    },
    {
      "cell_type": "code",
      "source": [
        "import numpy as np\n",
        "import matplotlib.pyplot as plt\n",
        "import math\n",
        "\n",
        "def F(x, eqn):\n",
        "    return eval(eqn, {\"x\": x, \"math\": math})\n",
        "\n",
        "# Secant method function with safety checks\n",
        "def secant_method(eqn, a, b, tolerance, max_iter):\n",
        "    itr = 1\n",
        "    m = []  # List to store the approximated roots\n",
        "    while itr <= max_iter:\n",
        "        fa = F(a, eqn)\n",
        "        fb = F(b, eqn)\n",
        "\n",
        "        # If either function value is too large (infinity), break the loop\n",
        "        if abs(fa) == float('inf') or abs(fb) == float('inf'):\n",
        "            print(\"Function evaluation resulted in an overflow or too large values.\")\n",
        "            return None, itr, m\n",
        "\n",
        "        # Check for division by zero\n",
        "        if fb == fa:\n",
        "            print(\"Division by zero is not possible, please try another values\")\n",
        "            return None, itr, m\n",
        "\n",
        "        # Correct Secant method formula\n",
        "        c = b - fb * (b - a) / (fb - fa)\n",
        "\n",
        "        # Append the root to m (list of approximated roots)\n",
        "        m.append(c)\n",
        "\n",
        "        # Calculate error\n",
        "        err = abs(F(c, eqn))\n",
        "\n",
        "        # If the error is within tolerance, stop\n",
        "        if err < tolerance:\n",
        "            return c, itr, m\n",
        "\n",
        "        # Update for the next iteration\n",
        "        a, b = b, c\n",
        "        itr += 1\n",
        "\n",
        "    print(\"Max iterations reached, no convergence yet\")\n",
        "    return None, itr, m\n",
        "\n",
        "# Main program\n",
        "eqn = input(\"Enter the equation using Python syntax (e.g., x**2 - 4, math.sin(x) - 0.5): \")\n",
        "a = float(input(\"Enter the 1st initial value: \"))\n",
        "b = float(input(\"Enter the 2nd initial value: \"))\n",
        "tolerance = float(input(\"Enter the tolerable error: \"))\n",
        "max_iter = int(input(\"Enter the maximum number of iterations: \"))\n",
        "\n",
        "# Call secant method\n",
        "root, iterations, m = secant_method(eqn, a, b, tolerance, max_iter)\n",
        "\n",
        "# Create x values for plotting\n",
        "x = np.linspace(-5, 5, 1000)\n",
        "\n",
        "# Plot the function and the approximated roots\n",
        "def f(x, eqn):\n",
        "    return np.array([F(val, eqn) for val in x])\n",
        "\n",
        "# Plotting the function\n",
        "plt.plot(x, f(x, eqn), color='r', label=eqn)  # Plot the equation curve\n",
        "plt.scatter(m, f(np.array(m), eqn), color='b', label='Approximated Roots')  # Scatter the roots\n",
        "plt.legend()\n",
        "plt.xlabel('x')\n",
        "plt.ylabel('f(x)')\n",
        "plt.title(f'Root Finding by Secant Method')\n",
        "plt.grid(True)\n",
        "plt.show()\n",
        "\n",
        "# Output the final root approximation and iterations\n",
        "if root is not None:\n",
        "    print(f\"The approximate root is {root} found in {iterations} iterations (max iterations was {max_iter})\")\n",
        "else:\n",
        "    print(\"No convergence reached.\")\n",
        "\n",
        "\n"
      ],
      "metadata": {
        "colab": {
          "base_uri": "https://localhost:8080/",
          "height": 576
        },
        "id": "JVF1e_s6OF0V",
        "outputId": "80a35996-fd47-42c9-9404-4c3da3d60cf5"
      },
      "execution_count": null,
      "outputs": [
        {
          "name": "stdout",
          "output_type": "stream",
          "text": [
            "Enter the equation using Python syntax (e.g., x**2 - 4, math.sin(x) - 0.5): math.exp(x)-math.sin(x)-9\n",
            "Enter the 1st initial value: 0\n",
            "Enter the 2nd initial value: 1\n",
            "Enter the tolerable error: 0.001\n",
            "Enter the maximum number of iterations: 100\n"
          ]
        },
        {
          "output_type": "display_data",
          "data": {
            "text/plain": [
              "<Figure size 640x480 with 1 Axes>"
            ],
            "image/png": "[encoded data removed]"
          },
          "metadata": {}
        },
        {
          "output_type": "stream",
          "name": "stdout",
          "text": [
            "The approximate root is 2.2782318854964143 found in 11 iterations (max iterations was 100)\n"
          ]
        }
      ]
    },
    {
      "cell_type": "code",
      "source": [
        "def F(x, eqn):\n",
        "  return eval(eqn, {\"x\": x, \"math\":math})\n",
        "def f(x):\n",
        "  return F(x, eqn)\n",
        "def g(f, x, h = 1e-10):\n",
        "  return ((f(x+h)-f(x-h)/(2*h)))\n",
        "\n",
        "eqn = input(\"enter the eqn using python syntax: \")\n",
        "a = float(input(\"Enter the initial value\"))\n",
        "\n",
        "\n",
        "if g(f,a) == 0:\n",
        "  print(\"the first derivate at  x = a is zero\")\n",
        "\n",
        "else:\n",
        "  e = float(input(\"enter the tolorable error\"))\n",
        "  N = int(input(\"enter the max number of iterations\"))\n",
        "  itr = 1\n",
        "  while itr <= N:\n",
        "    b = a - f(a)/g(f, a)\n",
        "    error = abs (f(b))\n",
        "    if error < e:\n",
        "      print (f\"root = {b}\")\n",
        "      break\n",
        "    a = b\n",
        "    if g(f, a)== 0:\n",
        "      print(\"the derivative of the function is zero\")\n",
        "      break\n",
        "    itr += 1\n",
        "  if itr > N:\n",
        "    print (\"Max iterations reached, no convergence yet\")\n",
        "\n"
      ],
      "metadata": {
        "colab": {
          "base_uri": "https://localhost:8080/"
        },
        "id": "B-abN4u5SrDL",
        "outputId": "bd36ed7b-42bc-4ca7-9eee-1ef9ead38ebc"
      },
      "execution_count": null,
      "outputs": [
        {
          "name": "stdout",
          "output_type": "stream",
          "text": [
            "enter the eqn using python syntax: x**3\n",
            "Enter the initial value0\n",
            "enter the tolorable error1\n"
          ]
        }
      ]
    },
    {
      "cell_type": "code",
      "source": [],
      "metadata": {
        "id": "JRnC5P7LXK5e"
      },
      "execution_count": null,
      "outputs": []
    }
  ]
}