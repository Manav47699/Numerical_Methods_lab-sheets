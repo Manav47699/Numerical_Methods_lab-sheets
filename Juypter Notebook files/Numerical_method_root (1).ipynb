{
  "nbformat": 4,
  "nbformat_minor": 0,
  "metadata": {
    "colab": {
      "provenance": []
    },
    "kernelspec": {
      "name": "python3",
      "display_name": "Python 3"
    },
    "language_info": {
      "name": "python"
    }
  },
  "cells": [
    {
      "cell_type": "markdown",
      "source": [
        "# SECANT METHOD"
      ],
      "metadata": {
        "id": "-2VOD0ws3BbB"
      }
    },
    {
      "cell_type": "code",
      "source": [
        "import math\n",
        "\n",
        "# Function to evaluate f(x)\n",
        "def f(x, equation):\n",
        "    return eval(equation, {\"x\": x, \"log\": math.log, \"math\": math})\n",
        "\n",
        "\n",
        "def secant_method(equation, a, b, tol=0.001, max_iter=100):\n",
        "    print(\"\\n{:<10} {:<12} {:<12} {:<12} {:<12} {:<12}\".format(\n",
        "        \"Iteration\", \"a\", \"b\", \"f(a)\", \"f(b)\", \"c\"))\n",
        "\n",
        "    extra_iters = 0  # Track extra iterations after root is found\n",
        "    root_found = False\n",
        "\n",
        "    for i in range(1, max_iter + 1):\n",
        "        fa = f(a, equation)\n",
        "        fb = f(b, equation)\n",
        "\n",
        "        if fb - fa == 0:\n",
        "            print(\"Division by zero. Method fails.\")\n",
        "            return None\n",
        "\n",
        "        c = (a * fb - b * fa) / (fb - fa)\n",
        "\n",
        "        print(\"{:<10} {:<12.6f} {:<12.6f} {:<12.6f} {:<12.6f} {:<12.6f}\".format(\n",
        "            i, a, b, fa, fb, c))\n",
        "\n",
        "        fc = f(c, equation)\n",
        "\n",
        "        # Root found condition\n",
        "        if not root_found and abs(fc) < tol:\n",
        "            root_found = True\n",
        "            print(f\"\\n✅ Root found: {c:.6f} (correct to 3 decimal places)\\n\")\n",
        "            # Start counting extra iterations now\n",
        "            extra_iters = 2\n",
        "\n",
        "        elif root_found:\n",
        "            extra_iters -= 1\n",
        "            if extra_iters == 0:\n",
        "                print(f\"\\n🛑 Stopping after 2 additional iterations.\")\n",
        "                return c\n",
        "\n",
        "        a, b = b, c\n",
        "\n",
        "    print(\"\\n❌ Method did not converge within maximum iterations.\")\n",
        "    return None\n",
        "\n",
        "# === INPUT ===\n",
        "equation_input = input(\"Enter the function f(x), use 'x' as variable (e.g., x**3 - x - 2): \")\n",
        "a_input = float(input(\"Enter initial guess a: \"))\n",
        "b_input = float(input(\"Enter initial guess b: \"))\n",
        "\n",
        "# === RUN ===\n",
        "secant_method(equation_input, a_input, b_input)\n"
      ],
      "metadata": {
        "id": "DROrjDCxwbau",
        "colab": {
          "base_uri": "https://localhost:8080/"
        },
        "outputId": "9bb8effb-fb18-4fd6-baf0-e8b17bf4a92c"
      },
      "execution_count": null,
      "outputs": [
        {
          "output_type": "stream",
          "name": "stdout",
          "text": [
            "Enter the function f(x), use 'x' as variable (e.g., x**3 - x - 2): x**2 -30\n",
            "Enter initial guess a: 5\n",
            "Enter initial guess b: 6\n",
            "\n",
            "Iteration  a            b            f(a)         f(b)         c           \n",
            "1          5.000000     6.000000     -5.000000    6.000000     5.454545    \n",
            "2          6.000000     5.454545     6.000000     -0.247934    5.476190    \n",
            "3          5.454545     5.476190     -0.247934    -0.011338    5.477228    \n",
            "\n",
            "✅ Root found: 5.477228 (correct to 3 decimal places)\n",
            "\n",
            "4          5.476190     5.477228     -0.011338    0.000024     5.477226    \n",
            "5          5.477228     5.477226     0.000024     -0.000000    5.477226    \n",
            "\n",
            "🛑 Stopping after 2 additional iterations.\n"
          ]
        },
        {
          "output_type": "execute_result",
          "data": {
            "text/plain": [
              "5.477225575051661"
            ]
          },
          "metadata": {},
          "execution_count": 19
        }
      ]
    },
    {
      "cell_type": "markdown",
      "source": [
        "# NEWTON RAPHSON METHOD"
      ],
      "metadata": {
        "id": "59xHfuj23Eq5"
      }
    },
    {
      "cell_type": "code",
      "source": [
        "import math\n",
        "import re\n",
        "from sympy import symbols, diff, lambdify, cos, exp\n",
        "from sympy.parsing.sympy_parser import parse_expr\n",
        "\n",
        "def newton_raphson(equation_str, a, tol=0.001, max_iter=100):\n",
        "    x = symbols('x')\n",
        "\n",
        "    # Fix e^x -> exp(x)\n",
        "    equation_str = re.sub(r\"e\\^([a-zA-Z0-9_()+\\-*/\\.]+)\", r\"exp(\\1)\", equation_str)\n",
        "\n",
        "    # Replace ^ with ** (power operator)\n",
        "    equation_str = equation_str.replace('^', '**')\n",
        "\n",
        "    # Replace '=' with '-' to get f(x) = 0 form\n",
        "    equation_str = equation_str.replace('=', '-')\n",
        "\n",
        "    local_dict = {'x': x, 'cos': cos, 'exp': exp}\n",
        "\n",
        "    fx_sym = parse_expr(equation_str, local_dict=local_dict)\n",
        "\n",
        "    f_prime_sym = diff(fx_sym, x)\n",
        "\n",
        "    f = lambdify(x, fx_sym, modules=['math'])\n",
        "    f_prime = lambdify(x, f_prime_sym, modules=['math'])\n",
        "\n",
        "    print(\"\\n{:<10} {:<12} {:<12}\".format(\"Iteration\", \"a\", \"b\"))\n",
        "\n",
        "    root_found = False\n",
        "    extra_iters = 0\n",
        "\n",
        "    for i in range(1, max_iter + 1):\n",
        "        fa = f(a)\n",
        "        fpa = f_prime(a)\n",
        "\n",
        "        if fpa == 0:\n",
        "            print(\"Derivative zero. Method fails.\")\n",
        "            return None\n",
        "\n",
        "        b = a - (fa / fpa)\n",
        "\n",
        "        print(\"{:<10} {:<12.6f} {:<12.6f}\".format(i, a, b))\n",
        "\n",
        "        if not root_found and abs(f(b)) < tol:\n",
        "            root_found = True\n",
        "            print(f\"\\n✅ Root found: {b:.6f} (correct to 3 decimal places)\\n\")\n",
        "            extra_iters = 2\n",
        "\n",
        "        elif root_found:\n",
        "            extra_iters -= 1\n",
        "            if extra_iters == 0:\n",
        "                print(\"🛑 Stopping after 2 additional iterations.\")\n",
        "                return b\n",
        "\n",
        "        a = b\n",
        "\n",
        "    print(\"❌ Method did not converge within maximum iterations.\")\n",
        "    return None\n",
        "\n",
        "# === INPUT ===\n",
        "equation_input = input(\"Enter the function f(x), use 'x' as variable (e.g., cos(x) = x * e^x): \")\n",
        "a_input = float(input(\"Enter initial guess a: \"))\n",
        "\n",
        "# === RUN ===\n",
        "newton_raphson(equation_input, a_input)\n"
      ],
      "metadata": {
        "id": "RGeGKxwx3KyN",
        "colab": {
          "base_uri": "https://localhost:8080/"
        },
        "outputId": "06d4f7c3-cbbe-4e5b-f855-9f5e5a643d7a"
      },
      "execution_count": null,
      "outputs": [
        {
          "output_type": "stream",
          "name": "stdout",
          "text": [
            "Enter the function f(x), use 'x' as variable (e.g., cos(x) = x * e^x): 10 *exp(-x) * sin(2 * 3.1415 * x) - 2\n",
            "Enter initial guess a: 0.125\n",
            "\n",
            "Iteration  a            b           \n",
            "1          0.125000     -0.003611   \n",
            "2          -0.003611    0.031599    \n",
            "3          0.031599     0.033140    \n",
            "\n",
            "✅ Root found: 0.033140 (correct to 3 decimal places)\n",
            "\n",
            "4          0.033140     0.033144    \n",
            "5          0.033144     0.033144    \n",
            "🛑 Stopping after 2 additional iterations.\n"
          ]
        },
        {
          "output_type": "execute_result",
          "data": {
            "text/plain": [
              "0.03314365690606133"
            ]
          },
          "metadata": {},
          "execution_count": 14
        }
      ]
    },
    {
      "cell_type": "markdown",
      "source": [
        "# REGULA FALSI METHOD"
      ],
      "metadata": {
        "id": "n3EbxCqiXV1K"
      }
    },
    {
      "cell_type": "code",
      "source": [
        "import math\n",
        "\n",
        "# Function to evaluate f(x)\n",
        "def f(x, equation):\n",
        "    return eval(equation, {\"x\": x, \"math\": math})\n",
        "\n",
        "def regula_falsi(equation, a, b, tol=0.001, max_iter=100):\n",
        "    print(\"\\n{:<10} {:<12} {:<12} {:<12} {:<12} {:<12} {:<12}\".format(\n",
        "        \"Iteration\", \"a\", \"b\", \"f(a)\", \"f(b)\", \"c\", \"f(c)\"))\n",
        "\n",
        "    root_found = False\n",
        "    extra_iters = 0\n",
        "\n",
        "    for i in range(1, max_iter + 1):\n",
        "        fa = f(a, equation)\n",
        "        fb = f(b, equation)\n",
        "\n",
        "        if fb - fa == 0:\n",
        "            print(\"Division by zero. Method fails.\")\n",
        "            return None\n",
        "\n",
        "        # Regula Falsi formula\n",
        "        c = (a * fb - b * fa) / (fb - fa)\n",
        "        fc = f(c, equation)\n",
        "\n",
        "        print(\"{:<10} {:<12.5f} {:<12.5f} {:<12.5f} {:<12.5f} {:<12.5f} {:<12.5f}\".format(\n",
        "            i, a, b, fa, fb, c, fc))\n",
        "\n",
        "        # Check if root found to 3 decimal places\n",
        "        if not root_found and abs(fc) < tol:\n",
        "            root_found = True\n",
        "            print(f\"\\n✅ Root found: {c:.5f} (correct to 3 decimal places)\\n\")\n",
        "            extra_iters = 2\n",
        "\n",
        "        elif root_found:\n",
        "            extra_iters -= 1\n",
        "            if extra_iters == 0:\n",
        "                print(\"🛑 Stopping after 2 additional iterations.\")\n",
        "                return c\n",
        "\n",
        "        # Update interval\n",
        "        if fa * fc < 0:\n",
        "            b = c\n",
        "        else:\n",
        "            a = c\n",
        "\n",
        "    print(\"\\n❌ Method did not converge within maximum iterations.\")\n",
        "    return None\n",
        "\n",
        "# === INPUT ===\n",
        "equation_input = input(\"Enter the function f(x), use 'x' as variable (e.g., x**3 - x - 2): \")\n",
        "a_input = float(input(\"Enter initial guess a (lower bound): \"))\n",
        "b_input = float(input(\"Enter initial guess b (upper bound): \"))\n",
        "\n",
        "# === RUN ===\n",
        "regula_falsi(equation_input, a_input, b_input)\n",
        "\n"
      ],
      "metadata": {
        "id": "ug9zQ--x4Wa0",
        "colab": {
          "base_uri": "https://localhost:8080/"
        },
        "outputId": "bf098e99-adb5-426d-c9fd-6b6b04ee3018"
      },
      "execution_count": null,
      "outputs": [
        {
          "output_type": "stream",
          "name": "stdout",
          "text": [
            "Enter the function f(x), use 'x' as variable (e.g., x**3 - x - 2): x * math.tan(x) + 1\n",
            "Enter initial guess a (lower bound): 1.5\n",
            "Enter initial guess b (upper bound): 1.7\n",
            "\n",
            "Iteration  a            b            f(a)         f(b)         c            f(c)        \n",
            "1          1.50000      1.70000      22.15213     -12.08422    1.62941      -26.76865   \n",
            "2          1.50000      1.62941      22.15213     -26.76865    1.55860      128.76133   \n",
            "3          1.55860      1.62941      128.76133    -26.76865    1.61722      -33.81116   \n",
            "4          1.55860      1.61722      128.76133    -33.81116    1.60503      -45.86909   \n",
            "5          1.55860      1.60503      128.76133    -45.86909    1.59283      -71.27149   \n",
            "6          1.55860      1.59283      128.76133    -71.27149    1.58063      -159.65754  \n",
            "7          1.55860      1.58063      128.76133    -159.65754   1.56844      665.43203   \n",
            "8          1.56844      1.58063      665.43203    -159.65754   1.57827      -210.05982  \n",
            "9          1.56844      1.57827      665.43203    -210.05982   1.57591      -306.96250  \n",
            "10         1.56844      1.57591      665.43203    -306.96250   1.57355      -569.82341  \n",
            "11         1.56844      1.57355      665.43203    -569.82341   1.57119      -3965.96480 \n",
            "12         1.56844      1.57119      665.43203    -3965.96480  1.56883      799.59262   \n",
            "13         1.56883      1.57119      799.59262    -3965.96480  1.56923      1001.51140  \n",
            "14         1.56923      1.57119      1001.51140   -3965.96480  1.56962      1339.86272  \n",
            "15         1.56962      1.57119      1339.86272   -3965.96480  1.57002      2023.47428  \n",
            "16         1.57002      1.57119      2023.47428   -3965.96480  1.57042      4131.30943  \n",
            "17         1.57042      1.57119      4131.30943   -3965.96480  1.57081      -99093.80710\n",
            "18         1.57042      1.57081      4131.30943   -99093.80710 1.57043      4311.04059  \n",
            "19         1.57043      1.57081      4311.04059   -99093.80710 1.57045      4507.12130  \n",
            "20         1.57045      1.57081      4507.12130   -99093.80710 1.57046      4721.88878  \n",
            "21         1.57046      1.57081      4721.88878   -99093.80710 1.57048      4958.14800  \n",
            "22         1.57048      1.57081      4958.14800   -99093.80710 1.57050      5219.29487  \n",
            "23         1.57050      1.57081      5219.29487   -99093.80710 1.57051      5509.48057  \n",
            "24         1.57051      1.57081      5509.48057   -99093.80710 1.57053      5833.83379  \n",
            "25         1.57053      1.57081      5833.83379   -99093.80710 1.57054      6198.76654  \n",
            "26         1.57054      1.57081      6198.76654   -99093.80710 1.57056      6612.40227  \n",
            "27         1.57056      1.57081      6612.40227   -99093.80710 1.57057      7085.18775  \n",
            "28         1.57057      1.57081      7085.18775   -99093.80710 1.57059      7630.78758  \n",
            "29         1.57059      1.57081      7630.78758   -99093.80710 1.57061      8267.42653  \n",
            "30         1.57061      1.57081      8267.42653   -99093.80710 1.57062      9019.96497  \n",
            "31         1.57062      1.57081      9019.96497   -99093.80710 1.57064      9923.22132  \n",
            "32         1.57064      1.57081      9923.22132   -99093.80710 1.57065      11027.51286 \n",
            "33         1.57065      1.57081      11027.51286  -99093.80710 1.57067      12408.35944 \n",
            "34         1.57067      1.57081      12408.35944  -99093.80710 1.57069      14184.52130 \n",
            "35         1.57069      1.57081      14184.52130  -99093.80710 1.57070      16554.11662 \n",
            "36         1.57070      1.57081      16554.11662  -99093.80710 1.57072      19874.20150 \n",
            "37         1.57072      1.57081      19874.20150  -99093.80710 1.57073      24860.13754 \n",
            "38         1.57073      1.57081      24860.13754  -99093.80710 1.57075      33185.55704 \n",
            "39         1.57075      1.57081      33185.55704  -99093.80710 1.57076      49894.86426 \n",
            "40         1.57076      1.57081      49894.86426  -99093.80710 1.57078      100495.49380\n",
            "41         1.57078      1.57081      100495.49380 -99093.80710 1.57080      -7104641.18496\n",
            "42         1.57078      1.57080      100495.49380 -7104641.18496 1.57078      101937.40331\n",
            "43         1.57078      1.57080      101937.40331 -7104641.18496 1.57078      103421.29218\n",
            "44         1.57078      1.57080      103421.29218 -7104641.18496 1.57078      104949.02075\n",
            "45         1.57078      1.57080      104949.02075 -7104641.18496 1.57078      106522.56094\n",
            "46         1.57078      1.57080      106522.56094 -7104641.18496 1.57078      108144.00474\n",
            "47         1.57078      1.57080      108144.00474 -7104641.18496 1.57078      109815.57345\n",
            "48         1.57078      1.57080      109815.57345 -7104641.18496 1.57078      111539.62789\n",
            "49         1.57078      1.57080      111539.62789 -7104641.18496 1.57078      113318.67950\n",
            "50         1.57078      1.57080      113318.67950 -7104641.18496 1.57078      115155.40254\n",
            "51         1.57078      1.57080      115155.40254 -7104641.18496 1.57078      117052.64751\n",
            "52         1.57078      1.57080      117052.64751 -7104641.18496 1.57078      119013.45590\n",
            "53         1.57078      1.57080      119013.45590 -7104641.18496 1.57078      121041.07651\n",
            "54         1.57078      1.57080      121041.07651 -7104641.18496 1.57078      123138.98331\n",
            "55         1.57078      1.57080      123138.98331 -7104641.18496 1.57078      125310.89543\n",
            "56         1.57078      1.57080      125310.89543 -7104641.18496 1.57078      127560.79905\n",
            "57         1.57078      1.57080      127560.79905 -7104641.18496 1.57078      129892.97191\n",
            "58         1.57078      1.57080      129892.97191 -7104641.18496 1.57078      132312.01036\n",
            "59         1.57078      1.57080      132312.01036 -7104641.18496 1.57078      134822.85970\n",
            "60         1.57078      1.57080      134822.85970 -7104641.18496 1.57078      137430.84783\n",
            "61         1.57078      1.57080      137430.84783 -7104641.18496 1.57079      140141.72306\n",
            "62         1.57079      1.57080      140141.72306 -7104641.18496 1.57079      142961.69636\n",
            "63         1.57079      1.57080      142961.69636 -7104641.18496 1.57079      145897.48889\n",
            "64         1.57079      1.57080      145897.48889 -7104641.18496 1.57079      148956.38546\n",
            "65         1.57079      1.57080      148956.38546 -7104641.18496 1.57079      152146.29493\n",
            "66         1.57079      1.57080      152146.29493 -7104641.18496 1.57079      155475.81842\n",
            "67         1.57079      1.57080      155475.81842 -7104641.18496 1.57079      158954.32682\n",
            "68         1.57079      1.57080      158954.32682 -7104641.18496 1.57079      162592.04884\n",
            "69         1.57079      1.57080      162592.04884 -7104641.18496 1.57079      166400.17146\n",
            "70         1.57079      1.57080      166400.17146 -7104641.18496 1.57079      170390.95486\n",
            "71         1.57079      1.57080      170390.95486 -7104641.18496 1.57079      174577.86427\n",
            "72         1.57079      1.57080      174577.86427 -7104641.18496 1.57079      178975.72173\n",
            "73         1.57079      1.57080      178975.72173 -7104641.18496 1.57079      183600.88145\n",
            "74         1.57079      1.57080      183600.88145 -7104641.18496 1.57079      188471.43301\n",
            "75         1.57079      1.57080      188471.43301 -7104641.18496 1.57079      193607.43782\n",
            "76         1.57079      1.57080      193607.43782 -7104641.18496 1.57079      199031.20529\n",
            "77         1.57079      1.57080      199031.20529 -7104641.18496 1.57079      204767.61681\n",
            "78         1.57079      1.57080      204767.61681 -7104641.18496 1.57079      210844.50741\n",
            "79         1.57079      1.57080      210844.50741 -7104641.18496 1.57079      217293.11742\n",
            "80         1.57079      1.57080      217293.11742 -7104641.18496 1.57079      224148.62965\n",
            "81         1.57079      1.57080      224148.62965 -7104641.18496 1.57079      231450.81155\n",
            "82         1.57079      1.57080      231450.81155 -7104641.18496 1.57079      239244.78716\n",
            "83         1.57079      1.57080      239244.78716 -7104641.18496 1.57079      247581.97046\n",
            "84         1.57079      1.57080      247581.97046 -7104641.18496 1.57079      256521.20085\n",
            "85         1.57079      1.57080      256521.20085 -7104641.18496 1.57079      266130.13390\n",
            "86         1.57079      1.57080      266130.13390 -7104641.18496 1.57079      276486.95684\n",
            "87         1.57079      1.57080      276486.95684 -7104641.18496 1.57079      287682.52079\n",
            "88         1.57079      1.57080      287682.52079 -7104641.18496 1.57079      299823.01289\n",
            "89         1.57079      1.57080      299823.01289 -7104641.18496 1.57079      313033.33487\n",
            "90         1.57079      1.57080      313033.33487 -7104641.18496 1.57079      327461.41596\n",
            "91         1.57079      1.57080      327461.41596 -7104641.18496 1.57079      343283.77609\n",
            "92         1.57079      1.57080      343283.77609 -7104641.18496 1.57079      360712.78388\n",
            "93         1.57079      1.57080      360712.78388 -7104641.18496 1.57079      380006.24381\n",
            "94         1.57079      1.57080      380006.24381 -7104641.18496 1.57079      401480.23411\n",
            "95         1.57079      1.57080      401480.23411 -7104641.18496 1.57079      425526.55787\n",
            "96         1.57079      1.57080      425526.55787 -7104641.18496 1.57079      452636.86539\n",
            "97         1.57079      1.57080      452636.86539 -7104641.18496 1.57079      483436.62470\n",
            "98         1.57079      1.57080      483436.62470 -7104641.18496 1.57079      518733.97397\n",
            "99         1.57079      1.57080      518733.97397 -7104641.18496 1.57079      559591.66098\n",
            "100        1.57079      1.57080      559591.66098 -7104641.18496 1.57079      607435.88670\n",
            "\n",
            "❌ Method did not converge within maximum iterations.\n"
          ]
        }
      ]
    },
    {
      "cell_type": "markdown",
      "source": [
        "# BISECTION METHOD"
      ],
      "metadata": {
        "id": "AHPzS0Dl-cVZ"
      }
    },
    {
      "cell_type": "code",
      "source": [
        "import math\n",
        "\n",
        "# Function to evaluate f(x)\n",
        "def f(x, equation):\n",
        "    return eval(equation, {\"x\": x, \"math\": math})\n",
        "\n",
        "def bisection_method(equation, a, b, tol=0.001, max_iter=100):\n",
        "    print(\"\\n{:<10} {:<12} {:<12} {:<12} {:<12}\".format(\n",
        "        \"Iteration\", \"a\", \"b\", \"c\", \"f(c)\"))\n",
        "\n",
        "    if f(a, equation) * f(b, equation) >= 0:\n",
        "        print(\"❌ f(a) and f(b) must have opposite signs. Try different guesses.\")\n",
        "        return\n",
        "\n",
        "    root_found = False\n",
        "    extra_iters = 0\n",
        "\n",
        "    for i in range(1, max_iter + 1):\n",
        "        c = (a + b) / 2\n",
        "        fc = f(c, equation)\n",
        "\n",
        "        print(\"{:<10} {:<12.5f} {:<12.5f} {:<12.5f} {:<12.5f}\".format(i, a, b, c, fc))\n",
        "\n",
        "        if not root_found and abs(fc) < tol:\n",
        "            root_found = True\n",
        "            print(f\"\\n✅ Root found: {c:.5f} (accurate to 3 decimal places)\\n\")\n",
        "            extra_iters = 2\n",
        "\n",
        "        elif root_found:\n",
        "            extra_iters -= 1\n",
        "            if extra_iters == 0:\n",
        "                print(\"🛑 Stopping after 2 additional iterations.\")\n",
        "                return\n",
        "\n",
        "        # Update the interval\n",
        "        if f(a, equation) * fc < 0:\n",
        "            b = c\n",
        "        else:\n",
        "            a = c\n",
        "\n",
        "    print(\"\\n❌ Method did not converge within the maximum number of iterations.\")\n",
        "\n",
        "# === INPUT ===\n",
        "equation_input = input(\"Enter the function f(x), use 'x' as variable (e.g., x**3 - x - 2): \")\n",
        "a_input = float(input(\"Enter initial guess a (lower bound): \"))\n",
        "b_input = float(input(\"Enter initial guess b (upper bound): \"))\n",
        "\n",
        "# === RUN ===\n",
        "bisection_method(equation_input, a_input, b_input)\n",
        "\n"
      ],
      "metadata": {
        "id": "jAOxH6FXXcjy",
        "colab": {
          "base_uri": "https://localhost:8080/",
          "height": 391
        },
        "outputId": "08e1031b-3a0a-4da2-e97a-bc95d202236f"
      },
      "execution_count": null,
      "outputs": [
        {
          "output_type": "error",
          "ename": "KeyboardInterrupt",
          "evalue": "Interrupted by user",
          "traceback": [
            "\u001b[0;31m---------------------------------------------------------------------------\u001b[0m",
            "\u001b[0;31mKeyboardInterrupt\u001b[0m                         Traceback (most recent call last)",
            "\u001b[0;32m<ipython-input-3-e86edc121d78>\u001b[0m in \u001b[0;36m<cell line: 0>\u001b[0;34m()\u001b[0m\n\u001b[1;32m     42\u001b[0m \u001b[0;34m\u001b[0m\u001b[0m\n\u001b[1;32m     43\u001b[0m \u001b[0;31m# === INPUT ===\u001b[0m\u001b[0;34m\u001b[0m\u001b[0;34m\u001b[0m\u001b[0m\n\u001b[0;32m---> 44\u001b[0;31m \u001b[0mequation_input\u001b[0m \u001b[0;34m=\u001b[0m \u001b[0minput\u001b[0m\u001b[0;34m(\u001b[0m\u001b[0;34m\"Enter the function f(x), use 'x' as variable (e.g., x**3 - x - 2): \"\u001b[0m\u001b[0;34m)\u001b[0m\u001b[0;34m\u001b[0m\u001b[0;34m\u001b[0m\u001b[0m\n\u001b[0m\u001b[1;32m     45\u001b[0m \u001b[0ma_input\u001b[0m \u001b[0;34m=\u001b[0m \u001b[0mfloat\u001b[0m\u001b[0;34m(\u001b[0m\u001b[0minput\u001b[0m\u001b[0;34m(\u001b[0m\u001b[0;34m\"Enter initial guess a (lower bound): \"\u001b[0m\u001b[0;34m)\u001b[0m\u001b[0;34m)\u001b[0m\u001b[0;34m\u001b[0m\u001b[0;34m\u001b[0m\u001b[0m\n\u001b[1;32m     46\u001b[0m \u001b[0mb_input\u001b[0m \u001b[0;34m=\u001b[0m \u001b[0mfloat\u001b[0m\u001b[0;34m(\u001b[0m\u001b[0minput\u001b[0m\u001b[0;34m(\u001b[0m\u001b[0;34m\"Enter initial guess b (upper bound): \"\u001b[0m\u001b[0;34m)\u001b[0m\u001b[0;34m)\u001b[0m\u001b[0;34m\u001b[0m\u001b[0;34m\u001b[0m\u001b[0m\n",
            "\u001b[0;32m/usr/local/lib/python3.11/dist-packages/ipykernel/kernelbase.py\u001b[0m in \u001b[0;36mraw_input\u001b[0;34m(self, prompt)\u001b[0m\n\u001b[1;32m   1175\u001b[0m                 \u001b[0;34m\"raw_input was called, but this frontend does not support input requests.\"\u001b[0m\u001b[0;34m\u001b[0m\u001b[0;34m\u001b[0m\u001b[0m\n\u001b[1;32m   1176\u001b[0m             )\n\u001b[0;32m-> 1177\u001b[0;31m         return self._input_request(\n\u001b[0m\u001b[1;32m   1178\u001b[0m             \u001b[0mstr\u001b[0m\u001b[0;34m(\u001b[0m\u001b[0mprompt\u001b[0m\u001b[0;34m)\u001b[0m\u001b[0;34m,\u001b[0m\u001b[0;34m\u001b[0m\u001b[0;34m\u001b[0m\u001b[0m\n\u001b[1;32m   1179\u001b[0m             \u001b[0mself\u001b[0m\u001b[0;34m.\u001b[0m\u001b[0m_parent_ident\u001b[0m\u001b[0;34m[\u001b[0m\u001b[0;34m\"shell\"\u001b[0m\u001b[0;34m]\u001b[0m\u001b[0;34m,\u001b[0m\u001b[0;34m\u001b[0m\u001b[0;34m\u001b[0m\u001b[0m\n",
            "\u001b[0;32m/usr/local/lib/python3.11/dist-packages/ipykernel/kernelbase.py\u001b[0m in \u001b[0;36m_input_request\u001b[0;34m(self, prompt, ident, parent, password)\u001b[0m\n\u001b[1;32m   1217\u001b[0m             \u001b[0;32mexcept\u001b[0m \u001b[0mKeyboardInterrupt\u001b[0m\u001b[0;34m:\u001b[0m\u001b[0;34m\u001b[0m\u001b[0;34m\u001b[0m\u001b[0m\n\u001b[1;32m   1218\u001b[0m                 \u001b[0;31m# re-raise KeyboardInterrupt, to truncate traceback\u001b[0m\u001b[0;34m\u001b[0m\u001b[0;34m\u001b[0m\u001b[0m\n\u001b[0;32m-> 1219\u001b[0;31m                 \u001b[0;32mraise\u001b[0m \u001b[0mKeyboardInterrupt\u001b[0m\u001b[0;34m(\u001b[0m\u001b[0;34m\"Interrupted by user\"\u001b[0m\u001b[0;34m)\u001b[0m \u001b[0;32mfrom\u001b[0m \u001b[0;32mNone\u001b[0m\u001b[0;34m\u001b[0m\u001b[0;34m\u001b[0m\u001b[0m\n\u001b[0m\u001b[1;32m   1220\u001b[0m             \u001b[0;32mexcept\u001b[0m \u001b[0mException\u001b[0m\u001b[0;34m:\u001b[0m\u001b[0;34m\u001b[0m\u001b[0;34m\u001b[0m\u001b[0m\n\u001b[1;32m   1221\u001b[0m                 \u001b[0mself\u001b[0m\u001b[0;34m.\u001b[0m\u001b[0mlog\u001b[0m\u001b[0;34m.\u001b[0m\u001b[0mwarning\u001b[0m\u001b[0;34m(\u001b[0m\u001b[0;34m\"Invalid Message:\"\u001b[0m\u001b[0;34m,\u001b[0m \u001b[0mexc_info\u001b[0m\u001b[0;34m=\u001b[0m\u001b[0;32mTrue\u001b[0m\u001b[0;34m)\u001b[0m\u001b[0;34m\u001b[0m\u001b[0;34m\u001b[0m\u001b[0m\n",
            "\u001b[0;31mKeyboardInterrupt\u001b[0m: Interrupted by user"
          ]
        }
      ]
    },
    {
      "cell_type": "markdown",
      "source": [
        "# Iterative method"
      ],
      "metadata": {
        "id": "yhvTWzuRN8Hx"
      }
    },
    {
      "cell_type": "code",
      "source": [
        "import math\n",
        "\n",
        "# Function to evaluate g(x)\n",
        "def g(x, equation):\n",
        "    return eval(equation, {\n",
        "        \"x\": x, \"log\": math.log, \"exp\": math.exp,\n",
        "        \"sin\": math.sin, \"cos\": math.cos, \"math\": math\n",
        "    })\n",
        "\n",
        "def iterative_method(g_eqn, x0, tol=0.0001, max_iter=100):\n",
        "    print(\"\\n{:<10} {:<15} {:<15}\".format(\"Iteration\", \"x\", \"g(x)\"))\n",
        "    print(\"-\" * 40)\n",
        "\n",
        "    extra_iters = 0\n",
        "    root_found = False\n",
        "\n",
        "    for i in range(1, max_iter + 1):\n",
        "        x1 = g(x0, g_eqn)\n",
        "\n",
        "        print(\"{:<10} {:<15.6f} {:<15.6f}\".format(i, x0, x1))\n",
        "\n",
        "        if not root_found and abs(x1 - x0) < tol:\n",
        "            root_found = True\n",
        "            extra_iters = 2\n",
        "            print(f\"\\n✅ Converged to root: {x1:.6f} in {i} iterations (tolerance: {tol})\")\n",
        "\n",
        "        elif root_found:\n",
        "            extra_iters -= 1\n",
        "            if extra_iters == 0:\n",
        "                print(f\"\\n🛑 Stopped after 2 additional iterations.\")\n",
        "                return x1\n",
        "\n",
        "        x0 = x1\n",
        "\n",
        "    print(\"\\n❌ Method did not converge within the maximum number of iterations.\")\n",
        "    return None\n",
        "\n",
        "# === INPUT ===\n",
        "print(\"Note: You must enter the function in the form x = g(x)\")\n",
        "g_input = input(\"Enter the iteration function g(x): \")\n",
        "x0_input = float(input(\"Enter initial guess x₀: \"))\n",
        "\n",
        "# === RUN ===\n",
        "iterative_method(g_input, x0_input)\n"
      ],
      "metadata": {
        "colab": {
          "base_uri": "https://localhost:8080/"
        },
        "id": "diWn7N-TmEoJ",
        "outputId": "6a946f48-4047-4f80-b9bf-fa007b58ae97"
      },
      "execution_count": null,
      "outputs": [
        {
          "output_type": "stream",
          "name": "stdout",
          "text": [
            "Note: You must enter the function in the form x = g(x)\n",
            "Enter the iteration function g(x):  0.5 * (math.cos(x) + 3)\n",
            "Enter initial guess x₀: 1.5\n",
            "\n",
            "Iteration  x               g(x)           \n",
            "----------------------------------------\n",
            "1          1.500000        1.535369       \n",
            "2          1.535369        1.517710       \n",
            "3          1.517710        1.526531       \n",
            "4          1.526531        1.522126       \n",
            "5          1.522126        1.524326       \n",
            "6          1.524326        1.523227       \n",
            "7          1.523227        1.523776       \n",
            "8          1.523776        1.523502       \n",
            "9          1.523502        1.523639       \n",
            "10         1.523639        1.523570       \n",
            "\n",
            "✅ Converged to root: 1.523570 in 10 iterations (tolerance: 0.0001)\n",
            "11         1.523570        1.523604       \n",
            "12         1.523604        1.523587       \n",
            "\n",
            "🛑 Stopped after 2 additional iterations.\n"
          ]
        },
        {
          "output_type": "execute_result",
          "data": {
            "text/plain": [
              "1.5235872524404233"
            ]
          },
          "metadata": {},
          "execution_count": 23
        }
      ]
    },
    {
      "cell_type": "markdown",
      "source": [
        "# Bisection method (sir ko)"
      ],
      "metadata": {
        "id": "xuNny2EYGfXg"
      }
    },
    {
      "cell_type": "code",
      "source": [
        "# Bisection method (cleaned up version)\n",
        "import math\n",
        "import numpy as np\n",
        "\n",
        "eqn = input(\"Enter the equation in python syntax: \")\n",
        "\n",
        "def F(x, eqn):\n",
        "    return eval(eqn, {\"x\": x, \"exp\": np.exp})\n",
        "\n",
        "def f(x):\n",
        "    return F(x, eqn)\n",
        "\n",
        "a = float(input(\"Enter the first initial guess: \"))\n",
        "b = float(input(\"Enter the second initial guess: \"))\n",
        "m = []\n",
        "\n",
        "if f(a) * f(b) > 0:\n",
        "    print(f\"No root lies in the interval ({a}, {b})\")\n",
        "\n",
        "else:\n",
        "    e = float(input(\"Enter the tolerable error: \"))\n",
        "    N = int(input(\"Enter the maximum number of iterations: \"))\n",
        "    i = 1\n",
        "\n",
        "    while i <= N:\n",
        "        c = (a + b) / 2\n",
        "        m.append(c)\n",
        "        fc = f(c)\n",
        "\n",
        "        print(f\"Iteration {i}: a = {a:.5f}, b = {b:.5f}, c = {c:.5f}, f(c) = {fc:.5f}\")\n",
        "\n",
        "        if f(a) * fc < 0:\n",
        "            b = c\n",
        "        else:\n",
        "            a = c\n",
        "\n",
        "        error = abs(b - a)\n",
        "        if error < e:\n",
        "            print(f\"\\n✅ Approximate root = {(a + b)/2:.5f} found in {i} iterations (tolerance: {e})\")\n",
        "            break\n",
        "\n",
        "        i += 1\n",
        "\n",
        "    if i > N:\n",
        "        print(f\"\\n❌ Maximum iterations ({N}) reached. Solution may not have converged.\")\n",
        "\n",
        "\n"
      ],
      "metadata": {
        "id": "L2olBEyI-hf6",
        "colab": {
          "base_uri": "https://localhost:8080/"
        },
        "outputId": "6132bc2e-6c37-4ebb-eb73-02eb1c1452ed"
      },
      "execution_count": null,
      "outputs": [
        {
          "output_type": "stream",
          "name": "stdout",
          "text": [
            "Enter the equation in python syntax: exp(x)+x-2\n",
            "Enter the first initial guess: 0\n",
            "Enter the second initial guess: 1\n",
            "Enter the tolerable error: 0.001\n",
            "Enter the maximum number of iterations: 100\n",
            "Iteration 1: a = 0.00000, b = 1.00000, c = 0.50000, f(c) = 0.14872\n",
            "Iteration 2: a = 0.00000, b = 0.50000, c = 0.25000, f(c) = -0.46597\n",
            "Iteration 3: a = 0.25000, b = 0.50000, c = 0.37500, f(c) = -0.17001\n",
            "Iteration 4: a = 0.37500, b = 0.50000, c = 0.43750, f(c) = -0.01367\n",
            "Iteration 5: a = 0.43750, b = 0.50000, c = 0.46875, f(c) = 0.06675\n",
            "Iteration 6: a = 0.43750, b = 0.46875, c = 0.45312, f(c) = 0.02635\n",
            "Iteration 7: a = 0.43750, b = 0.45312, c = 0.44531, f(c) = 0.00629\n",
            "Iteration 8: a = 0.43750, b = 0.44531, c = 0.44141, f(c) = -0.00370\n",
            "Iteration 9: a = 0.44141, b = 0.44531, c = 0.44336, f(c) = 0.00129\n",
            "Iteration 10: a = 0.44141, b = 0.44336, c = 0.44238, f(c) = -0.00121\n",
            "\n",
            "✅ Approximate root = 0.44287 found in 10 iterations (tolerance: 0.001)\n"
          ]
        }
      ]
    },
    {
      "cell_type": "code",
      "source": [
        "import numpy as np\n",
        "import matplotlib.pyplot as plt\n",
        "\n",
        "# The 'm' list should already be populated from your bisection method logic.\n",
        "# Ensure 'a' and 'b' are also defined from previous steps.\n",
        "\n",
        "# Convert m to a NumPy array here, if it's still a list from the bisection loop.\n",
        "# This should be the only 'm = np.array(m)' line in this block.\n",
        "m = np.array(m)            #converts the variable m (a list) into a NumPy array.\n",
        "\n",
        "\n",
        "\n",
        "\n",
        "x = np.linspace(0, 1, 1000)     #creates a numpy array \"x\" with 1000 values (0.001.......0.999). We put 1000 as our tolorable error is 0.001\n",
        "\n",
        "plt.figure(figsize=(10, 6))\n",
        "plt.plot(x, f(x), color='red', label=eqn)      #Plots the graph of the function f(x) against the values in the array x.\n",
        "#label=eqn is for the legend() below\n",
        "plt.axhline(0, color='black') # Simplified from (0,0)\n",
        "plt.axvline(0, color='black') # Simplified from (0,0)\n",
        "plt.legend()        #used to show that small box on the bottom right corner\n",
        "plt.xlabel('x')\n",
        "plt.ylabel('f(x)')\n",
        "plt.grid(True)\n",
        "plt.title('Bisection Method')\n",
        "plt.scatter(m, f(m))\n",
        "\n",
        "for i, val in enumerate(m):                        #index ->> i\n",
        "    plt.text(val, f(val) + 0.05, f'{i+1}')          #(x-axis, y-axis, which number to display)\n",
        "\n",
        "plt.show()"
      ],
      "metadata": {
        "id": "2dI66umHPIEZ",
        "colab": {
          "base_uri": "https://localhost:8080/",
          "height": 564
        },
        "outputId": "8e85382f-c557-4f99-aa22-56276a8418c7"
      },
      "execution_count": null,
      "outputs": [
        {
          "output_type": "display_data",
          "data": {
            "text/plain": [
              "<Figure size 1000x600 with 1 Axes>"
            ],
            "image/png": "[encoded data removed]"
          },
          "metadata": {}
        }
      ]
    },
    {
      "cell_type": "markdown",
      "source": [
        "# regula falsi(lab)"
      ],
      "metadata": {
        "id": "6AzL1X92HuiQ"
      }
    },
    {
      "cell_type": "code",
      "source": [
        "import math  # Needed for math functions like sin, exp, etc.\n",
        "import numpy as np\n",
        "\n",
        "# Input the equation\n",
        "eqn = input(\"Enter the equation in python syntax (use 'x' as variable): \")\n",
        "\n",
        "# Function to evaluate f(x)\n",
        "def F(x, eqn):\n",
        "    return eval(eqn, {\"x\": x, \"exp\": np.exp})\n",
        "\n",
        "def f(x):\n",
        "    return F(x, eqn)\n",
        "\n",
        "# Initial guesses\n",
        "a = float(input(\"Enter the first initial guess (a): \"))\n",
        "b = float(input(\"Enter the second initial guess (b): \"))\n",
        "n = []\n",
        "\n",
        "# Check if root exists in interval\n",
        "if f(a) * f(b) > 0:\n",
        "    print(f\"❌ No root lies in the interval ({a}, {b})\")\n",
        "else:\n",
        "    e = float(input(\"Enter the tolerable error: \"))\n",
        "    N = int(input(\"Enter the maximum number of iterations: \"))\n",
        "\n",
        "    print(\"\\n{:<10} {:<12} {:<12} {:<12} {:<12} {:<12}\".format(\n",
        "      \"Iteration\", \"a\", \"b\", \"f(a)\", \"f(b)\", \"c\"))\n",
        "    print(\"-\" * 70)\n",
        "\n",
        "    i = 1\n",
        "    while i <= N:\n",
        "        fa = f(a)\n",
        "        fb = f(b)\n",
        "        c = (a * fb - b * fa) / (fb - fa)\n",
        "        n.append(c)\n",
        "        fc = f(c)\n",
        "\n",
        "        print(\"{:<10} {:<12.5f} {:<12.5f} {:<12.5f} {:<12.5f} {:<12.5f}\".format(\n",
        "            i, a, b, fa, fb, c))\n",
        "\n",
        "        if abs(fc) < e:\n",
        "            print(f\"\\n✅ Approximate root = {c:.5f} found in {i} iterations (tolerance: {e})\")\n",
        "            break\n",
        "\n",
        "        if fa * fc < 0:\n",
        "            b = c\n",
        "        else:\n",
        "            a = c\n",
        "\n",
        "        i += 1\n",
        "\n",
        "    if i > N:\n",
        "        print(f\"\\n❌ Maximum iterations ({N}) reached. Solution may not have converged.\")\n"
      ],
      "metadata": {
        "id": "Ev8mnMdyHzBo",
        "colab": {
          "base_uri": "https://localhost:8080/"
        },
        "outputId": "4325a46e-d43d-4735-c2d9-00c2851f6edb"
      },
      "execution_count": null,
      "outputs": [
        {
          "output_type": "stream",
          "name": "stdout",
          "text": [
            "Enter the equation in python syntax (use 'x' as variable): exp(x)+x-2\n",
            "Enter the first initial guess (a): 0\n",
            "Enter the second initial guess (b): 1\n",
            "Enter the tolerable error: 0.001\n",
            "Enter the maximum number of iterations: 100\n",
            "\n",
            "Iteration  a            b            f(a)         f(b)         c           \n",
            "----------------------------------------------------------------------\n",
            "1          0.00000      1.00000      -1.00000     1.71828      0.36788     \n",
            "2          0.36788      1.00000      -0.18745     1.71828      0.43006     \n",
            "3          0.43006      1.00000      -0.03260     1.71828      0.44067     \n",
            "4          0.44067      1.00000      -0.00559     1.71828      0.44248     \n",
            "\n",
            "✅ Approximate root = 0.44248 found in 4 iterations (tolerance: 0.001)\n"
          ]
        }
      ]
    },
    {
      "cell_type": "code",
      "source": [
        "import numpy as np\n",
        "import matplotlib.pyplot as plt\n",
        "\n",
        "# The 'n' list should already be populated from your Regula Falsi method logic.\n",
        "# Ensure 'a' and 'b' are also defined from previous steps.\n",
        "\n",
        "# Convert n to a NumPy array here, if it's still a list from the Regula Falsi loop.\n",
        "# This should be the only 'n = np.array(n)' line in this block.\n",
        "\n",
        "n = np.array(n)\n",
        "\n",
        "x = np.linspace(0, 1, 1000)\n",
        "plt.figure(figsize=(10, 6))\n",
        "plt.plot(x, f(x), color='red', label=eqn)\n",
        "plt.axhline(0, color='black')\n",
        "plt.axvline(0, color='black')\n",
        "plt.legend()\n",
        "plt.xlabel('x')\n",
        "plt.ylabel('f(x)')\n",
        "plt.grid(True)\n",
        "plt.title('Regula Falsi Method')  # Changed title to Regula Falsi\n",
        "if n.size > 0: # Only attempt to scatter plot if 'n' has data\n",
        "    plt.scatter(n, f(n)) # Removed color and zorder for simplicity\n",
        "    for i, val in enumerate(n):\n",
        "        plt.text(val, f(val) + 0.05, f'{i+1}') # Fixed offset, no bbox or dynamic calculation\n",
        "\n",
        "plt.show()"
      ],
      "metadata": {
        "id": "cKEU0IPcHzh4",
        "colab": {
          "base_uri": "https://localhost:8080/",
          "height": 564
        },
        "outputId": "993aadbd-6fbd-4ca9-b79d-eeb548df219f"
      },
      "execution_count": null,
      "outputs": [
        {
          "output_type": "display_data",
          "data": {
            "text/plain": [
              "<Figure size 1000x600 with 1 Axes>"
            ],
            "image/png": "[encoded data removed]"
          },
          "metadata": {}
        }
      ]
    },
    {
      "cell_type": "markdown",
      "source": [
        "# Secant method (lab)"
      ],
      "metadata": {
        "id": "XnkZ2NkXNH-o"
      }
    },
    {
      "cell_type": "code",
      "source": [
        "import pandas as pd\n",
        "import numpy as np\n",
        "import matplotlib.pyplot as plt\n",
        "\n",
        "# Input the equation: use numpy functions like exp(x), sin(x), etc.\n",
        "eqn = input(\"Enter the equation (use numpy functions like exp(x), sin(x)): \")\n",
        "\n",
        "# Define f(x) to support both scalar and numpy array inputs using numpy functions\n",
        "def f(x):\n",
        "\n",
        "        #'sin': np.sin,\n",
        "        #'cos': np.cos,\n",
        "        #'log': np.log,\n",
        "       # 'sqrt': np.sqrt,\n",
        "        # add more numpy functions if needed\n",
        "\n",
        "    return eval(eqn, {\n",
        "        'x': x,\n",
        "        'exp': np.exp,})\n",
        "\n",
        "# Get initial guesses\n",
        "a = float(input(\"Enter the first guess: \"))\n",
        "b = float(input(\"Enter the second guess: \"))\n",
        "\n",
        "A = []  # to store iteration info\n",
        "m = []  # to store roots approximations\n",
        "\n",
        "if f(a) == f(b):\n",
        "    print(\"Value becomes infinite. Choose another guess.\")\n",
        "else:\n",
        "    e = float(input(\"Enter the error tolerance: \"))\n",
        "    N = int(input(\"Enter the number of iterations: \"))\n",
        "    itr = 1\n",
        "    while itr <= N:\n",
        "        fa = f(a)\n",
        "        fb = f(b)\n",
        "        c = (a * fb - b * fa) / (fb - fa)\n",
        "        fc = f(c)\n",
        "        m.append(c)\n",
        "        A.append([itr, a, b, c, fa, fb, fc])\n",
        "        err = abs(fc)\n",
        "        if err < e:\n",
        "            df = pd.DataFrame(A, columns=['itr', 'a', 'b', 'c', 'f(a)', 'f(b)', 'f(c)'])\n",
        "            print(df.to_string(index=False))\n",
        "            print(f\"The root of the equation is: {c} in {itr} iterations\")\n",
        "            break\n",
        "        a, b = b, c\n",
        "        itr += 1\n",
        "    if itr > N:\n",
        "        print(\"Root did not converge in the given iterations\")\n",
        "\n",
        "# Plotting\n",
        "m = np.array(m)\n",
        "\n",
        "x = np.linspace(-5, +5, 2000)  # Range centered around root guesses\n",
        "\n",
        "plt.figure(figsize=(10, 6))\n",
        "plt.plot(x, f(x), label=eqn, color='red')\n",
        "plt.axhline(0, color='black')\n",
        "plt.axvline(0, color='black')\n",
        "plt.xlabel('x')\n",
        "plt.ylabel('f(x)')\n",
        "plt.title('Secant Method Root Finding')\n",
        "plt.grid(True)\n",
        "plt.legend()\n",
        "\n",
        "plt.scatter(m, f(m), color='blue')\n",
        "\n",
        "for i, val in enumerate(m):\n",
        "    plt.text(val, f(val) + 0.05, f'{i+1}')  # slightly above each point\n",
        "\n",
        "plt.show()\n"
      ],
      "metadata": {
        "id": "8zvodOD2OzV2",
        "colab": {
          "base_uri": "https://localhost:8080/",
          "height": 738
        },
        "outputId": "fdf7c463-7811-49d7-b943-f1721abc37dc"
      },
      "execution_count": null,
      "outputs": [
        {
          "output_type": "stream",
          "name": "stdout",
          "text": [
            "Enter the equation (use numpy functions like exp(x), sin(x)): exp(x)+x-2\n",
            "Enter the first guess: 0\n",
            "Enter the second guess: 1\n",
            "Enter the error tolerance: 0.001\n",
            "Enter the number of iterations: 100\n",
            " itr        a        b        c      f(a)      f(b)      f(c)\n",
            "   1 0.000000 1.000000 0.367879 -1.000000  1.718282 -0.187453\n",
            "   2 1.000000 0.367879 0.430056  1.718282 -0.187453 -0.032599\n",
            "   3 0.367879 0.430056 0.443146 -0.187453 -0.032599  0.000745\n",
            "The root of the equation is: 0.4431457539835316 in 3 iterations\n"
          ]
        },
        {
          "output_type": "display_data",
          "data": {
            "text/plain": [
              "<Figure size 1000x600 with 1 Axes>"
            ],
            "image/png": "[encoded data removed]"
          },
          "metadata": {}
        }
      ]
    },
    {
      "cell_type": "markdown",
      "source": [
        "NEWTON RAPHSON METHOD (lab)\n"
      ],
      "metadata": {
        "id": "Cq-L8VwcYtYD"
      }
    },
    {
      "cell_type": "code",
      "source": [
        "#NEWTON RAPHSON METHOD\n",
        "import pandas as pd\n",
        "import numpy as np\n",
        "import matplotlib.pyplot as plt\n",
        "\n",
        "# Input equation using numpy syntax (e.g. exp(x), sin(x))\n",
        "eqn = input(\"Enter the equation (use numpy functions like exp(x), sin(x)): \")\n",
        "\n",
        "# Function to evaluate f(x) safely with numpy functions\n",
        "def f(x):\n",
        "\n",
        "        #'sin': np.sin,\n",
        "        #'cos': np.cos,\n",
        "        #'log': np.log,\n",
        "       # 'sqrt': np.sqrt,\n",
        "        # add more numpy functions if needed\n",
        "\n",
        "    return eval(eqn, {\n",
        "        'x': x,\n",
        "        'exp': np.exp,})\n",
        "\n",
        "# Numerical derivative (central difference)\n",
        "def g(f, x, h=1e-10):\n",
        "    return (f(x + h) - f(x - h)) / (2 * h)\n",
        "\n",
        "A = []  # to store iteration data\n",
        "m = []  # to store root approximations for plotting\n",
        "\n",
        "a = float(input(\"Enter the initial guess: \"))\n",
        "\n",
        "if g(f, a) == 0:\n",
        "    print(\"First derivative of the function at initial guess is zero. Try a different guess.\")\n",
        "else:\n",
        "    e = float(input(\"Enter the error tolerance: \"))\n",
        "    N = int(input(\"Enter the maximum number of iterations: \"))\n",
        "    itr = 1\n",
        "    while itr <= N:\n",
        "        fa = f(a)\n",
        "        ga = g(f, a)\n",
        "        if ga == 0:\n",
        "            print(\"Zero derivative encountered during iterations. Stopping.\")\n",
        "            break\n",
        "        b = a - fa / ga\n",
        "        A.append([itr, a, fa, ga, b])\n",
        "        m.append(b)\n",
        "        err = abs(f(b))\n",
        "\n",
        "        if err < e:\n",
        "            df = pd.DataFrame(A, columns=['Iteration', 'a', 'f(a)', \"g(a)\", 'b'])\n",
        "            print( df.to_string(index=False))\n",
        "            print(f\"\\nThe root of the equation is approximately: {b} in {itr} iterations\")\n",
        "            break\n",
        "        a = b\n",
        "        itr += 1\n",
        "    else:\n",
        "        print(\"Root did not converge within the given iterations.\")\n",
        "\n",
        "# Plotting\n",
        "m = np.array(m)\n",
        "\n",
        "x = np.linspace(min(m) - 5, max(m) + 5, 2000)\n",
        "\n",
        "plt.figure(figsize=(10, 6))\n",
        "plt.plot(x, f(x), label=eqn, color='purple')\n",
        "plt.axhline(0, color='black')\n",
        "plt.axvline(0, color='black')\n",
        "plt.xlabel('x')\n",
        "plt.ylabel('f(x)')\n",
        "plt.title('Newton-Raphson Method Root Finding')\n",
        "plt.grid(True)\n",
        "plt.legend()\n",
        "\n",
        "plt.scatter(m, f(m), color='blue')\n",
        "\n",
        "for i, val in enumerate(m):\n",
        "    plt.text(val, f(val) + 0.05, f'{i+1}')\n",
        "\n",
        "plt.show()\n",
        "\n"
      ],
      "metadata": {
        "id": "yuBWREl0a2WO",
        "colab": {
          "base_uri": "https://localhost:8080/",
          "height": 720
        },
        "outputId": "d2768ab9-1e9d-4c66-9c53-b1be125eaeef"
      },
      "execution_count": null,
      "outputs": [
        {
          "output_type": "stream",
          "name": "stdout",
          "text": [
            "Enter the equation (use numpy functions like exp(x), sin(x)): exp(x)+x-2\n",
            "Enter the initial guess: 0.5\n",
            "Enter the error tolerance: 0.001\n",
            "Enter the maximum number of iterations: 100\n",
            " Iteration        a     f(a)     g(a)        b\n",
            "         1 0.500000 0.148721 2.648721 0.443852\n",
            "         2 0.443852 0.002551 2.558700 0.442855\n",
            "\n",
            "The root of the equation is approximately: 0.4428547040825779 in 2 iterations\n"
          ]
        },
        {
          "output_type": "display_data",
          "data": {
            "text/plain": [
              "<Figure size 1000x600 with 1 Axes>"
            ],
            "image/png": "[encoded data removed]"
          },
          "metadata": {}
        }
      ]
    },
    {
      "cell_type": "markdown",
      "source": [
        "secant chatgpt\n"
      ],
      "metadata": {
        "id": "wlz5KdMAyb1S"
      }
    },
    {
      "cell_type": "code",
      "source": [
        "import pandas as pd\n",
        "import numpy as np\n",
        "import math\n",
        "import matplotlib.pyplot as plt\n",
        "\n",
        "# Input equation with np. functions for plotting and math. functions for computation\n",
        "eqn = input('Enter the equation in terms of x (use math. for input, e.g., math.exp(x) + x - 2): ')\n",
        "\n",
        "# Function for scalar evaluation (for secant iteration)\n",
        "def F(x, eqn):\n",
        "    return eval(eqn, {'x': x, 'math': math})\n",
        "\n",
        "def f(x):\n",
        "    return F(x, eqn)\n",
        "\n",
        "# Function for array-safe plotting (with np)\n",
        "def f_plot(x_array):\n",
        "    return eval(eqn, {'x': x_array, 'np': np})\n",
        "\n",
        "# Initial guesses\n",
        "a = float(input('Enter the first guess: '))\n",
        "b = float(input('Enter the second guess: '))\n",
        "A = []\n",
        "m = []\n",
        "\n",
        "if f(a) == f(b):\n",
        "    print('❌ Value becomes infinite. Choose another guess.')\n",
        "else:\n",
        "    e = float(input('Enter the error tolerance: '))\n",
        "    N = int(input('Enter the number of iterations: '))\n",
        "    itr = 1\n",
        "    found = False\n",
        "\n",
        "    while itr <= N:\n",
        "        c = (a * f(b) - b * f(a)) / (f(b) - f(a))\n",
        "        m.append(c)\n",
        "        A.append([itr, a, b, c, f(a), f(b), f(c)])\n",
        "        err = abs(f(c))\n",
        "\n",
        "        if err < e:\n",
        "            found = True\n",
        "            df = pd.DataFrame(A, columns=['Itr', 'a', 'b', 'c', 'f(a)', 'f(b)', 'f(c)'])\n",
        "            print(df.to_string(index=False))\n",
        "            print(f'\\n✅ The root of the equation is approximately: {c:.6f} (in {itr} iterations)')\n",
        "\n",
        "            # Plot\n",
        "            m = np.array(m)\n",
        "            x = np.linspace(0, 1, 1000)\n",
        "            plt.figure(figsize=(10, 6))\n",
        "            plt.plot(x, f_plot(x), color='red', label=f'f(x) = {eqn}')\n",
        "            plt.axhline(0, color='black')\n",
        "            plt.axvline(0, color='black')\n",
        "            plt.scatter(m, f_plot(m), color='blue', zorder=5)\n",
        "\n",
        "            #for i, val in enumerate(m):\n",
        "             #   plt.text(val, f_plot(val) + 0.05, f'{i+1}', fontsize=8)\n",
        "\n",
        "            plt.xlabel('x')\n",
        "            plt.ylabel('f(x)')\n",
        "            plt.title('Secant Method')\n",
        "            plt.grid(True)\n",
        "            plt.legend()\n",
        "            plt.show()\n",
        "            break\n",
        "\n",
        "        a, b = b, c\n",
        "        itr += 1\n",
        "\n",
        "    if not found:\n",
        "        print('❌ Root did not converge in the given number of iterations.')\n"
      ],
      "metadata": {
        "colab": {
          "base_uri": "https://localhost:8080/",
          "height": 575
        },
        "id": "Q53ncofPydYR",
        "outputId": "d1d4643d-5f55-4649-df96-62756be43610"
      },
      "execution_count": null,
      "outputs": [
        {
          "output_type": "stream",
          "name": "stdout",
          "text": [
            "Enter the equation in terms of x (use math. for input, e.g., math.exp(x) + x - 2): math.exp(x)+x-2\n",
            "Enter the first guess: 0\n",
            "Enter the second guess: 1\n",
            "Enter the error tolerance: 0.001\n",
            "Enter the number of iterations: 100\n",
            " Itr        a        b        c      f(a)      f(b)      f(c)\n",
            "   1 0.000000 1.000000 0.367879 -1.000000  1.718282 -0.187453\n",
            "   2 1.000000 0.367879 0.430056  1.718282 -0.187453 -0.032599\n",
            "   3 0.367879 0.430056 0.443146 -0.187453 -0.032599  0.000745\n",
            "\n",
            "✅ The root of the equation is approximately: 0.443146 (in 3 iterations)\n"
          ]
        },
        {
          "output_type": "error",
          "ename": "NameError",
          "evalue": "name 'math' is not defined",
          "traceback": [
            "\u001b[0;31m---------------------------------------------------------------------------\u001b[0m",
            "\u001b[0;31mNameError\u001b[0m                                 Traceback (most recent call last)",
            "\u001b[0;32m<ipython-input-10-660809035>\u001b[0m in \u001b[0;36m<cell line: 0>\u001b[0;34m()\u001b[0m\n\u001b[1;32m     48\u001b[0m             \u001b[0mx\u001b[0m \u001b[0;34m=\u001b[0m \u001b[0mnp\u001b[0m\u001b[0;34m.\u001b[0m\u001b[0mlinspace\u001b[0m\u001b[0;34m(\u001b[0m\u001b[0;36m0\u001b[0m\u001b[0;34m,\u001b[0m \u001b[0;36m1\u001b[0m\u001b[0;34m,\u001b[0m \u001b[0;36m1000\u001b[0m\u001b[0;34m)\u001b[0m\u001b[0;34m\u001b[0m\u001b[0;34m\u001b[0m\u001b[0m\n\u001b[1;32m     49\u001b[0m             \u001b[0mplt\u001b[0m\u001b[0;34m.\u001b[0m\u001b[0mfigure\u001b[0m\u001b[0;34m(\u001b[0m\u001b[0mfigsize\u001b[0m\u001b[0;34m=\u001b[0m\u001b[0;34m(\u001b[0m\u001b[0;36m10\u001b[0m\u001b[0;34m,\u001b[0m \u001b[0;36m6\u001b[0m\u001b[0;34m)\u001b[0m\u001b[0;34m)\u001b[0m\u001b[0;34m\u001b[0m\u001b[0;34m\u001b[0m\u001b[0m\n\u001b[0;32m---> 50\u001b[0;31m             \u001b[0mplt\u001b[0m\u001b[0;34m.\u001b[0m\u001b[0mplot\u001b[0m\u001b[0;34m(\u001b[0m\u001b[0mx\u001b[0m\u001b[0;34m,\u001b[0m \u001b[0mf_plot\u001b[0m\u001b[0;34m(\u001b[0m\u001b[0mx\u001b[0m\u001b[0;34m)\u001b[0m\u001b[0;34m,\u001b[0m \u001b[0mcolor\u001b[0m\u001b[0;34m=\u001b[0m\u001b[0;34m'red'\u001b[0m\u001b[0;34m,\u001b[0m \u001b[0mlabel\u001b[0m\u001b[0;34m=\u001b[0m\u001b[0;34mf'f(x) = {eqn}'\u001b[0m\u001b[0;34m)\u001b[0m\u001b[0;34m\u001b[0m\u001b[0;34m\u001b[0m\u001b[0m\n\u001b[0m\u001b[1;32m     51\u001b[0m             \u001b[0mplt\u001b[0m\u001b[0;34m.\u001b[0m\u001b[0maxhline\u001b[0m\u001b[0;34m(\u001b[0m\u001b[0;36m0\u001b[0m\u001b[0;34m,\u001b[0m \u001b[0mcolor\u001b[0m\u001b[0;34m=\u001b[0m\u001b[0;34m'black'\u001b[0m\u001b[0;34m)\u001b[0m\u001b[0;34m\u001b[0m\u001b[0;34m\u001b[0m\u001b[0m\n\u001b[1;32m     52\u001b[0m             \u001b[0mplt\u001b[0m\u001b[0;34m.\u001b[0m\u001b[0maxvline\u001b[0m\u001b[0;34m(\u001b[0m\u001b[0;36m0\u001b[0m\u001b[0;34m,\u001b[0m \u001b[0mcolor\u001b[0m\u001b[0;34m=\u001b[0m\u001b[0;34m'black'\u001b[0m\u001b[0;34m)\u001b[0m\u001b[0;34m\u001b[0m\u001b[0;34m\u001b[0m\u001b[0m\n",
            "\u001b[0;32m<ipython-input-10-660809035>\u001b[0m in \u001b[0;36mf_plot\u001b[0;34m(x_array)\u001b[0m\n\u001b[1;32m     16\u001b[0m \u001b[0;31m# Function for array-safe plotting (with np)\u001b[0m\u001b[0;34m\u001b[0m\u001b[0;34m\u001b[0m\u001b[0m\n\u001b[1;32m     17\u001b[0m \u001b[0;32mdef\u001b[0m \u001b[0mf_plot\u001b[0m\u001b[0;34m(\u001b[0m\u001b[0mx_array\u001b[0m\u001b[0;34m)\u001b[0m\u001b[0;34m:\u001b[0m\u001b[0;34m\u001b[0m\u001b[0;34m\u001b[0m\u001b[0m\n\u001b[0;32m---> 18\u001b[0;31m     \u001b[0;32mreturn\u001b[0m \u001b[0meval\u001b[0m\u001b[0;34m(\u001b[0m\u001b[0meqn\u001b[0m\u001b[0;34m,\u001b[0m \u001b[0;34m{\u001b[0m\u001b[0;34m'x'\u001b[0m\u001b[0;34m:\u001b[0m \u001b[0mx_array\u001b[0m\u001b[0;34m,\u001b[0m \u001b[0;34m'np'\u001b[0m\u001b[0;34m:\u001b[0m \u001b[0mnp\u001b[0m\u001b[0;34m}\u001b[0m\u001b[0;34m)\u001b[0m\u001b[0;34m\u001b[0m\u001b[0;34m\u001b[0m\u001b[0m\n\u001b[0m\u001b[1;32m     19\u001b[0m \u001b[0;34m\u001b[0m\u001b[0m\n\u001b[1;32m     20\u001b[0m \u001b[0;31m# Initial guesses\u001b[0m\u001b[0;34m\u001b[0m\u001b[0;34m\u001b[0m\u001b[0m\n",
            "\u001b[0;32m<string>\u001b[0m in \u001b[0;36m<module>\u001b[0;34m\u001b[0m\n",
            "\u001b[0;31mNameError\u001b[0m: name 'math' is not defined"
          ]
        },
        {
          "output_type": "display_data",
          "data": {
            "text/plain": [
              "<Figure size 1000x600 with 0 Axes>"
            ]
          },
          "metadata": {}
        }
      ]
    },
    {
      "cell_type": "code",
      "source": [
        "# BLOCK 1 - Root Calculation using Secant Method\n",
        "import pandas as pd\n",
        "import numpy as np\n",
        "import math\n",
        "\n",
        "eqn = input('Enter the equation (use math. functions like math.exp(x), math.sin(x), etc.): ')\n",
        "\n",
        "def f(x):\n",
        "    return eval(eqn, {'x': x, 'math': math})\n",
        "\n",
        "a = float(input('Enter the first guess: '))\n",
        "b = float(input('Enter the second guess: '))\n",
        "e = float(input('Enter the error tolerance: '))\n",
        "N = int(input('Enter the number of iterations: '))\n",
        "\n",
        "A = []\n",
        "m = []\n",
        "\n",
        "if f(a) == f(b):\n",
        "    print('Value becomes infinite. Choose another guess')\n",
        "else:\n",
        "    itr = 1\n",
        "    found = False\n",
        "    while itr <= N:\n",
        "        c = (a * f(b) - b * f(a)) / (f(b) - f(a))\n",
        "        m.append(c)\n",
        "        A.append([itr, a, b, c, f(a), f(b), f(c)])\n",
        "        if abs(f(c)) < e:\n",
        "            found = True\n",
        "            df = pd.DataFrame(A, columns=['Itr', 'a', 'b', 'c', 'f(a)', 'f(b)', 'f(c)'])\n",
        "            print(df.to_string(index=False))\n",
        "            print(f\"\\n✅ The root of the equation is approximately: {c:.6f} (in {itr} iterations)\")\n",
        "            break\n",
        "        a, b = b, c\n",
        "        itr += 1\n",
        "\n",
        "    if not found:\n",
        "        print(\"❌ Root did not converge in the given number of iterations.\")\n",
        "\n",
        "# Save the last root value and all intermediate values for plotting\n",
        "last_root = c\n",
        "root_history = m\n"
      ],
      "metadata": {
        "colab": {
          "base_uri": "https://localhost:8080/"
        },
        "id": "5UdxfG_T1VCP",
        "outputId": "35b985c1-6245-4728-b3bb-07928ebef47b"
      },
      "execution_count": null,
      "outputs": [
        {
          "output_type": "stream",
          "name": "stdout",
          "text": [
            "Enter the equation (use math. functions like math.exp(x), math.sin(x), etc.): math.exp(x) + x - 2\n",
            "Enter the first guess: 0\n",
            "Enter the second guess: 1\n",
            "Enter the error tolerance: 0.001\n",
            "Enter the number of iterations: 100\n",
            " Itr        a        b        c      f(a)      f(b)      f(c)\n",
            "   1 0.000000 1.000000 0.367879 -1.000000  1.718282 -0.187453\n",
            "   2 1.000000 0.367879 0.430056  1.718282 -0.187453 -0.032599\n",
            "   3 0.367879 0.430056 0.443146 -0.187453 -0.032599  0.000745\n",
            "\n",
            "✅ The root of the equation is approximately: 0.443146 (in 3 iterations)\n"
          ]
        }
      ]
    },
    {
      "cell_type": "code",
      "source": [
        "# BLOCK 2 - Plotting the Function and Root (run after Block 1)\n",
        "\n",
        "import matplotlib.pyplot as plt\n",
        "import numpy as np\n",
        "import math\n",
        "\n",
        "\n",
        "x = np.linspace(last_root - 5, last_root + 5, 1000)\n",
        "plt.figure(figsize=(10, 6))\n",
        "plt.plot(x, f_plot(x), color='blue', label=f'f(x) = {eqn}')\n",
        "plt.axhline(0, color='black')\n",
        "plt.axvline(0, color='black')\n",
        "plt.scatter(root_history, [f_plot(i) for i in root_history], color='red')\n",
        "\n",
        "for i, val in enumerate(root_history):\n",
        "    plt.text(val, f_plot(val) + 0.1, f'{i+1}', fontsize=8)\n",
        "\n",
        "plt.xlabel('x')\n",
        "plt.ylabel('f(x)')\n",
        "plt.title('Secant Method - Root Finding Plot')\n",
        "plt.grid(True)\n",
        "plt.legend()\n",
        "plt.show()\n"
      ],
      "metadata": {
        "colab": {
          "base_uri": "https://localhost:8080/",
          "height": 384
        },
        "id": "5RHsa95S1pDN",
        "outputId": "06db6cad-edc3-463a-ca69-9a82769c0591"
      },
      "execution_count": null,
      "outputs": [
        {
          "output_type": "error",
          "ename": "TypeError",
          "evalue": "only length-1 arrays can be converted to Python scalars",
          "traceback": [
            "\u001b[0;31m---------------------------------------------------------------------------\u001b[0m",
            "\u001b[0;31mTypeError\u001b[0m                                 Traceback (most recent call last)",
            "\u001b[0;32m<ipython-input-13-4204799646>\u001b[0m in \u001b[0;36m<cell line: 0>\u001b[0;34m()\u001b[0m\n\u001b[1;32m      8\u001b[0m \u001b[0mx\u001b[0m \u001b[0;34m=\u001b[0m \u001b[0mnp\u001b[0m\u001b[0;34m.\u001b[0m\u001b[0mlinspace\u001b[0m\u001b[0;34m(\u001b[0m\u001b[0mlast_root\u001b[0m \u001b[0;34m-\u001b[0m \u001b[0;36m5\u001b[0m\u001b[0;34m,\u001b[0m \u001b[0mlast_root\u001b[0m \u001b[0;34m+\u001b[0m \u001b[0;36m5\u001b[0m\u001b[0;34m,\u001b[0m \u001b[0;36m1000\u001b[0m\u001b[0;34m)\u001b[0m\u001b[0;34m\u001b[0m\u001b[0;34m\u001b[0m\u001b[0m\n\u001b[1;32m      9\u001b[0m \u001b[0mplt\u001b[0m\u001b[0;34m.\u001b[0m\u001b[0mfigure\u001b[0m\u001b[0;34m(\u001b[0m\u001b[0mfigsize\u001b[0m\u001b[0;34m=\u001b[0m\u001b[0;34m(\u001b[0m\u001b[0;36m10\u001b[0m\u001b[0;34m,\u001b[0m \u001b[0;36m6\u001b[0m\u001b[0;34m)\u001b[0m\u001b[0;34m)\u001b[0m\u001b[0;34m\u001b[0m\u001b[0;34m\u001b[0m\u001b[0m\n\u001b[0;32m---> 10\u001b[0;31m \u001b[0mplt\u001b[0m\u001b[0;34m.\u001b[0m\u001b[0mplot\u001b[0m\u001b[0;34m(\u001b[0m\u001b[0mx\u001b[0m\u001b[0;34m,\u001b[0m \u001b[0mf_plot\u001b[0m\u001b[0;34m(\u001b[0m\u001b[0mx\u001b[0m\u001b[0;34m)\u001b[0m\u001b[0;34m,\u001b[0m \u001b[0mcolor\u001b[0m\u001b[0;34m=\u001b[0m\u001b[0;34m'blue'\u001b[0m\u001b[0;34m,\u001b[0m \u001b[0mlabel\u001b[0m\u001b[0;34m=\u001b[0m\u001b[0;34mf'f(x) = {eqn}'\u001b[0m\u001b[0;34m)\u001b[0m\u001b[0;34m\u001b[0m\u001b[0;34m\u001b[0m\u001b[0m\n\u001b[0m\u001b[1;32m     11\u001b[0m \u001b[0mplt\u001b[0m\u001b[0;34m.\u001b[0m\u001b[0maxhline\u001b[0m\u001b[0;34m(\u001b[0m\u001b[0;36m0\u001b[0m\u001b[0;34m,\u001b[0m \u001b[0mcolor\u001b[0m\u001b[0;34m=\u001b[0m\u001b[0;34m'black'\u001b[0m\u001b[0;34m)\u001b[0m\u001b[0;34m\u001b[0m\u001b[0;34m\u001b[0m\u001b[0m\n\u001b[1;32m     12\u001b[0m \u001b[0mplt\u001b[0m\u001b[0;34m.\u001b[0m\u001b[0maxvline\u001b[0m\u001b[0;34m(\u001b[0m\u001b[0;36m0\u001b[0m\u001b[0;34m,\u001b[0m \u001b[0mcolor\u001b[0m\u001b[0;34m=\u001b[0m\u001b[0;34m'black'\u001b[0m\u001b[0;34m)\u001b[0m\u001b[0;34m\u001b[0m\u001b[0;34m\u001b[0m\u001b[0m\n",
            "\u001b[0;32m<ipython-input-12-2081741759>\u001b[0m in \u001b[0;36mf_plot\u001b[0;34m(x_array)\u001b[0m\n\u001b[1;32m      7\u001b[0m \u001b[0;31m# Reuse the equation from Block 1\u001b[0m\u001b[0;34m\u001b[0m\u001b[0;34m\u001b[0m\u001b[0m\n\u001b[1;32m      8\u001b[0m \u001b[0;32mdef\u001b[0m \u001b[0mf_plot\u001b[0m\u001b[0;34m(\u001b[0m\u001b[0mx_array\u001b[0m\u001b[0;34m)\u001b[0m\u001b[0;34m:\u001b[0m\u001b[0;34m\u001b[0m\u001b[0;34m\u001b[0m\u001b[0m\n\u001b[0;32m----> 9\u001b[0;31m     \u001b[0;32mreturn\u001b[0m \u001b[0meval\u001b[0m\u001b[0;34m(\u001b[0m\u001b[0meqn\u001b[0m\u001b[0;34m,\u001b[0m \u001b[0;34m{\u001b[0m\u001b[0;34m'x'\u001b[0m\u001b[0;34m:\u001b[0m \u001b[0mx_array\u001b[0m\u001b[0;34m,\u001b[0m \u001b[0;34m'math'\u001b[0m\u001b[0;34m:\u001b[0m \u001b[0mmath\u001b[0m\u001b[0;34m}\u001b[0m\u001b[0;34m)\u001b[0m\u001b[0;34m\u001b[0m\u001b[0;34m\u001b[0m\u001b[0m\n\u001b[0m\u001b[1;32m     10\u001b[0m \u001b[0;34m\u001b[0m\u001b[0m\n\u001b[1;32m     11\u001b[0m \u001b[0mx\u001b[0m \u001b[0;34m=\u001b[0m \u001b[0mnp\u001b[0m\u001b[0;34m.\u001b[0m\u001b[0mlinspace\u001b[0m\u001b[0;34m(\u001b[0m\u001b[0mlast_root\u001b[0m \u001b[0;34m-\u001b[0m \u001b[0;36m5\u001b[0m\u001b[0;34m,\u001b[0m \u001b[0mlast_root\u001b[0m \u001b[0;34m+\u001b[0m \u001b[0;36m5\u001b[0m\u001b[0;34m,\u001b[0m \u001b[0;36m1000\u001b[0m\u001b[0;34m)\u001b[0m\u001b[0;34m\u001b[0m\u001b[0;34m\u001b[0m\u001b[0m\n",
            "\u001b[0;32m<string>\u001b[0m in \u001b[0;36m<module>\u001b[0;34m\u001b[0m\n",
            "\u001b[0;31mTypeError\u001b[0m: only length-1 arrays can be converted to Python scalars"
          ]
        },
        {
          "output_type": "display_data",
          "data": {
            "text/plain": [
              "<Figure size 1000x600 with 0 Axes>"
            ]
          },
          "metadata": {}
        }
      ]
    },
    {
      "cell_type": "markdown",
      "source": [
        "GAUSS ELMINATION (LAB)"
      ],
      "metadata": {
        "id": "bUaYflodKpkG"
      }
    },
    {
      "cell_type": "code",
      "source": [
        "import numpy as np\n",
        "\n",
        "n = int(input(\"Enter the no of variables: \"))\n",
        "print(\"Enter augmented matrix: \")\n",
        "A = []\n",
        "\n",
        "for i in range(n):\n",
        "    A.append(list(map(float, input(f\"Enter row {i+1} elements: \").split())))\n",
        "\n",
        "print(\"The augmented matrix is:\\n\", A)\n",
        "\n",
        "A = np.array(A)\n",
        "\n",
        "for i in range(n):\n",
        "    A[i] = A[i] / A[i][i]\n",
        "    for j in range(i + 1, n):\n",
        "        A[j] = A[j] - A[i] * A[j][i]\n",
        "\n",
        "print(\"The upper triangular matrix is:\\n\", A)\n",
        "\n",
        "x = np.zeros(n)\n",
        "\n",
        "for i in range(n - 1, -1, -1):\n",
        "    x[i] = A[i][-1] - sum(A[i][j] * x[j] for j in range(i + 1, n))\n",
        "\n",
        "print(\"The solution is:\", x)\n"
      ],
      "metadata": {
        "id": "-NUxHl6lKpPz",
        "colab": {
          "base_uri": "https://localhost:8080/"
        },
        "outputId": "67e1c274-cba5-4060-afc0-25b11d3ee672"
      },
      "execution_count": null,
      "outputs": [
        {
          "output_type": "stream",
          "name": "stdout",
          "text": [
            "Enter the no of variables: 4\n",
            "Enter augmented matrix: \n",
            "Enter row 1 elements: 2 -1 1 2 3\n",
            "Enter row 2 elements: -1 3 4 -1 1\n",
            "Enter row 3 elements: 3 1 -2 1 5\n",
            "Enter row 4 elements: 1 -1 3 -1 -1\n",
            "The augmented matrix is:\n",
            " [[2.0, -1.0, 1.0, 2.0, 3.0], [-1.0, 3.0, 4.0, -1.0, 1.0], [3.0, 1.0, -2.0, 1.0, 5.0], [1.0, -1.0, 3.0, -1.0, -1.0]]\n",
            "The upper triangular matrix is:\n",
            " [[ 1.   -0.5   0.5   1.    1.5 ]\n",
            " [ 0.    1.    1.8   0.    1.  ]\n",
            " [-0.   -0.    1.    0.25  0.25]\n",
            " [-0.   -0.   -0.    1.    1.  ]]\n",
            "The solution is: [1. 1. 0. 1.]\n"
          ]
        }
      ]
    },
    {
      "cell_type": "markdown",
      "source": [
        "# GAUSSIAN ELIMINATION WITH PARTIAL PIVOTING(LAB)"
      ],
      "metadata": {
        "id": "s2bZnHI7tC3m"
      }
    },
    {
      "cell_type": "code",
      "source": [
        "import numpy as np\n",
        "import pandas as pd\n",
        "\n",
        "n = int(input('Enter the no. of variables: '))\n",
        "print('Enter augmented matrix:')\n",
        "A = []\n",
        "for i in range(n):\n",
        "    A.append(list(map(float, input(f'Enter {i+1}th row: ').split())))\n",
        "\n",
        "A = np.array(A)\n",
        "print('The augmented matrix is:\\n', A)\n",
        "\n",
        "# Forward elimination with partial pivoting\n",
        "for i in range(n):\n",
        "    i_row = np.argmax(abs(A[i:, i])) + i\n",
        "    A[[i, i_row]] = A[[i_row, i]]\n",
        "    for j in range(i+1, n):\n",
        "        A[j] = A[j] - (A[j, i] / A[i, i]) * A[i]\n",
        "\n",
        "print('The upper triangular matrix is:')\n",
        "print(np.matrix(A))\n",
        "\n",
        "# Back-substitution\n",
        "x = np.zeros(n)\n",
        "for i in range(n - 1, -1, -1):\n",
        "    x[i] = (A[i, n] - np.dot(A[i, i+1:n], x[i+1:n])) / A[i, i]\n",
        "\n",
        "print('The solution is:')\n",
        "for i in range(n):\n",
        "    print(f'x[{i}] = {x[i]}')\n"
      ],
      "metadata": {
        "id": "lDu_J6VnKycu",
        "colab": {
          "base_uri": "https://localhost:8080/"
        },
        "outputId": "a72e9090-fae6-4373-cf82-be25ca07a809"
      },
      "execution_count": null,
      "outputs": [
        {
          "output_type": "stream",
          "name": "stdout",
          "text": [
            "Enter the no. of variables: 4\n",
            "Enter augmented matrix:\n",
            "Enter 1th row: 2 -1 1 2 3\n",
            "Enter 2th row: -1 3 4 -1 1\n",
            "Enter 3th row: 3 1 -2 1 5\n",
            "Enter 4th row: 1 -1 3 -1 -1\n",
            "The augmented matrix is:\n",
            " [[ 2. -1.  1.  2.  3.]\n",
            " [-1.  3.  4. -1.  1.]\n",
            " [ 3.  1. -2.  1.  5.]\n",
            " [ 1. -1.  3. -1. -1.]]\n",
            "The upper triangular matrix is:\n",
            "[[ 3.          1.         -2.          1.          5.        ]\n",
            " [ 0.          3.33333333  3.33333333 -0.66666667  2.66666667]\n",
            " [ 0.          0.          5.         -1.6        -1.6       ]\n",
            " [ 0.          0.          0.          2.28        2.28      ]]\n",
            "The solution is:\n",
            "x[0] = 1.0\n",
            "x[1] = 1.0\n",
            "x[2] = -4.4408920985006264e-17\n",
            "x[3] = 1.0\n"
          ]
        }
      ]
    },
    {
      "cell_type": "markdown",
      "source": [
        "GAUSS SEIDEL (LAB)"
      ],
      "metadata": {
        "id": "iSy85UPUK0WX"
      }
    },
    {
      "cell_type": "code",
      "source": [
        "import numpy as np\n",
        "\n",
        "n = int(input(\"Enter number of equations (n): \"))\n",
        "A = []\n",
        "\n",
        "for i in range(n):\n",
        "    row = list(map(float, input(f\"Enter row {i+1} (space-separated, including constants): \").split()))\n",
        "    if len(row) != n + 1:\n",
        "        raise ValueError(\"Each row must have n coefficients + 1 constant.\")\n",
        "    A.append(row)\n",
        "\n",
        "A = np.array(A)\n",
        "\n",
        "x = []\n",
        "for i in range(n):\n",
        "    val = float(input(f\"Enter initial guess for x{i+1}: \"))\n",
        "    x.append(val)\n",
        "\n",
        "x = np.array(x)\n",
        "\n",
        "e = float(input(\"Enter the tolerable error: \"))\n",
        "N = int(input(\"Enter the max number of iterations: \"))\n",
        "\n",
        "def is_diagonally_dominant(A):\n",
        "    for i in range(len(A)):\n",
        "        if abs(A[i][i]) < sum(abs(A[i][j]) for j in range(len(A)) if j != i):\n",
        "            return False\n",
        "    return True\n",
        "\n",
        "if not is_diagonally_dominant(A[:, :-1]):\n",
        "    print(\"Warning: The matrix is not diagonally dominant. The method may not converge.\")\n",
        "\n",
        "itr = 1\n",
        "while itr <= N:\n",
        "    x_old = np.copy(x)\n",
        "    for i in range(n):\n",
        "        sum1 = 0\n",
        "        for j in range(n):\n",
        "            if j != i:\n",
        "                sum1 += A[i, j] * x[j]\n",
        "        x[i] = (A[i, -1] - sum1) / A[i, i]\n",
        "\n",
        "    err = np.abs(x - x_old)\n",
        "\n",
        "    for i in range(n):\n",
        "        if abs(x[i]) < 1e-10:\n",
        "            x[i] = 0\n",
        "        if abs(err[i]) < 1e-10:\n",
        "            err[i] = 0\n",
        "\n",
        "    print(f\"Iteration {itr}: x = {np.round(x, 6)}, error = {np.round(err, 6)}\")\n",
        "\n",
        "    if np.all(err < e):\n",
        "        break\n",
        "    itr += 1\n",
        "\n",
        "if itr > N:\n",
        "    print(f\"\\nSolution did not converge in {N} iterations.\")\n",
        "else:\n",
        "    print(f\"\\nSolution converged in {itr} iterations.\")\n",
        "    for i in range(n):\n",
        "        print(f\"x{i+1} = {x[i]}\")\n"
      ],
      "metadata": {
        "id": "xjchXnVQK3be"
      },
      "execution_count": null,
      "outputs": []
    },
    {
      "cell_type": "markdown",
      "source": [
        "# Dominant eigen and value and corresponding square matrix by power method"
      ],
      "metadata": {
        "id": "X1yrE6O9OIlf"
      }
    },
    {
      "cell_type": "code",
      "source": [
        "#to find the dominant eigenvalue and corresponding eigenvector of a square matrix by power method\n",
        "\n",
        "import numpy as np\n",
        "import pandas as pd\n",
        "\n",
        "n = int(input(\"Enter the order of square matrix: \"))\n",
        "a = []\n",
        "\n",
        "for i in range(n):\n",
        "    a.append(list(map(float, input(f\"Enter the {i+1}th row: \").split())))\n",
        "\n",
        "a = np.array(a)\n",
        "\n",
        "print(\"The square matrix is:\\n\", np.matrix(a))\n",
        "\n",
        "x = np.array(list(map(float, input(\"Enter the initial vector: \").split())))\n",
        "max_ev = 0\n",
        "\n",
        "e, N = float(input(\"Enter the tolerable error: \")), int(input(\"Enter the max no of iterations: \"))\n",
        "itr = 1\n",
        "\n",
        "old_ev = 0\n",
        "\n",
        "\n",
        "table = []\n",
        "\n",
        "while itr <= N:\n",
        "    y = np.dot(a, x)\n",
        "    max_ev = abs(max(y, key=abs))\n",
        "    for i in range(n):\n",
        "        x = y/max_ev\n",
        "\n",
        "    err = abs(old_ev - max_ev)\n",
        "\n",
        "    table.append({\n",
        "        \"Iteration\": itr,\n",
        "        \"Eigenvalue\": max_ev,\n",
        "        \"Eigenvector\": x,\n",
        "        \"Error\": err\n",
        "    })\n",
        "\n",
        "    if err < e:\n",
        "        break;\n",
        "    old_ev = max_ev\n",
        "    itr += 1\n",
        "\n",
        "if itr > N:\n",
        "    print(f\"\\nNo dominant eigenvalue found in {itr} iterations!\")\n",
        "else:\n",
        "    print(f\"\\nEigenvalue found at {max_ev} in {itr} iterations!\")\n",
        "    print(f\"The corresponding eigenvector is:\\n\", np.matrix(x))\n",
        "\n",
        "    table = pd.DataFrame(table).to_string(index=False)\n",
        "    print(table)"
      ],
      "metadata": {
        "id": "esgztdH-Oi7Q",
        "colab": {
          "base_uri": "https://localhost:8080/"
        },
        "outputId": "b7ed254e-fd7c-483d-e2d9-fd43d4d0d4e2"
      },
      "execution_count": null,
      "outputs": [
        {
          "output_type": "stream",
          "name": "stdout",
          "text": [
            "Enter the order of square matrix: 2\n",
            "Enter the 1th row: 2 1\n",
            "Enter the 2th row: 1 3\n",
            "The square matrix is:\n",
            " [[2. 1.]\n",
            " [1. 3.]]\n",
            "Enter the initial vector: 1 1\n",
            "Enter the tolerable error: 0.001\n",
            "Enter the max no of iterations: 100\n",
            "\n",
            "Eigenvalue found at 3.6184210526315788 in 8 iterations!\n",
            "The corresponding eigenvector is:\n",
            " [[0.61818182 1.        ]]\n",
            " Iteration  Eigenvalue               Eigenvector    Error\n",
            "         1    4.000000               [0.75, 1.0] 4.000000\n",
            "         2    3.750000 [0.6666666666666666, 1.0] 0.250000\n",
            "         3    3.666667 [0.6363636363636364, 1.0] 0.083333\n",
            "         4    3.636364              [0.625, 1.0] 0.030303\n",
            "         5    3.625000 [0.6206896551724138, 1.0] 0.011364\n",
            "         6    3.620690  [0.619047619047619, 1.0] 0.004310\n",
            "         7    3.619048  [0.618421052631579, 1.0] 0.001642\n",
            "         8    3.618421 [0.6181818181818183, 1.0] 0.000627\n"
          ]
        }
      ]
    },
    {
      "cell_type": "markdown",
      "source": [
        "# Inverse power method to find the smallest eign value and eign vector"
      ],
      "metadata": {
        "id": "D6CAqYjFU222"
      }
    },
    {
      "cell_type": "code",
      "source": [
        "#to find the dominant eigenvalue and corresponding eigenvector of a square matrix by power method\n",
        "\n",
        "import numpy as np\n",
        "import pandas as pd\n",
        "\n",
        "def inv(a):\n",
        "    try:\n",
        "        return np.linalg.inv(a)\n",
        "    except:\n",
        "        print(\"The matrix is singular, cannot compute inverse!\")\n",
        "        exit(2)\n",
        "\n",
        "n = int(input(\"Enter the order of square matrix: \"))\n",
        "a = []\n",
        "\n",
        "for i in range(n):\n",
        "    a.append(list(map(float, input(f\"Enter the {i+1}th row: \").split())))\n",
        "\n",
        "a = np.array(a)\n",
        "\n",
        "print(\"The square matrix is:\\n\", np.matrix(a))\n",
        "\n",
        "x = np.array(list(map(float, input(\"Enter the initial vector: \").split())))\n",
        "max_ev = 0\n",
        "\n",
        "e, N = float(input(\"Enter the tolerable error: \")), int(input(\"Enter the max no of iterations: \"))\n",
        "itr = 1\n",
        "\n",
        "old_ev = 0\n",
        "\n",
        "B = np.array(inv(a))\n",
        "\n",
        "print(B)\n",
        "\n",
        "table = []\n",
        "\n",
        "while itr <= N:\n",
        "    y = np.dot(B, x)\n",
        "    max_ev = abs(max(y, key=abs))\n",
        "    for i in range(n):\n",
        "        x = y/max_ev\n",
        "\n",
        "    err = abs(old_ev - max_ev)\n",
        "\n",
        "    table.append({\n",
        "        \"Iteration\": itr,\n",
        "        \"Eigenvalue\": max_ev,\n",
        "        \"Eigenvector\": x,\n",
        "        \"Error\": err\n",
        "    })\n",
        "\n",
        "    if err < e:\n",
        "        break\n",
        "    old_ev = max_ev\n",
        "    itr += 1\n",
        "\n",
        "if itr > N:\n",
        "    print(f\"\\nNo dominant eigenvalue found in {itr} iterations!\")\n",
        "else:\n",
        "    print(f\"\\nEigenvalue found at {1/max_ev} in {itr} iterations!\")\n",
        "    print(f\"The corresponding eigenvector is:\\n\", np.matrix(x))\n",
        "\n",
        "    table = pd.DataFrame(table).to_string(index=False)\n",
        "    print(table)"
      ],
      "metadata": {
        "colab": {
          "base_uri": "https://localhost:8080/"
        },
        "id": "F9RSyUPOQ_vR",
        "outputId": "f1cda5cf-7bb9-4eb2-e333-d2f6a4bce73f"
      },
      "execution_count": null,
      "outputs": [
        {
          "output_type": "stream",
          "name": "stdout",
          "text": [
            "Enter the order of square matrix: 2\n",
            "Enter the 1th row: 4 1\n",
            "Enter the 2th row: 2 3\n",
            "The square matrix is:\n",
            " [[4. 1.]\n",
            " [2. 3.]]\n",
            "Enter the initial vector: 1 1 \n",
            "Enter the tolerable error: 0.001\n",
            "Enter the max no of iterations: 100\n",
            "[[ 0.3 -0.1]\n",
            " [-0.2  0.4]]\n",
            "\n",
            "Eigenvalue found at 4.999999999999999 in 2 iterations!\n",
            "The corresponding eigenvector is:\n",
            " [[1. 1.]]\n",
            " Iteration  Eigenvalue               Eigenvector        Error\n",
            "         1         0.2 [0.9999999999999999, 1.0] 2.000000e-01\n",
            "         2         0.2 [0.9999999999999996, 1.0] 2.775558e-17\n"
          ]
        }
      ]
    },
    {
      "cell_type": "markdown",
      "source": [
        "# LU decomposition method"
      ],
      "metadata": {
        "id": "4vWFOw5YZHfd"
      }
    },
    {
      "cell_type": "code",
      "source": [
        "# to solve systme of linear equations by LU decomposition method\n",
        "\n",
        "import scipy.linalg as slg\n",
        "import numpy as np\n",
        "\n",
        "n = int(input(\"Enter the no. of coefficients: \"))\n",
        "a = []\n",
        "\n",
        "for i in range(n):\n",
        "    a.append(list(map(float, input(f\"Enter the {i+1}th row: \").split())))\n",
        "\n",
        "a = np.array(a)\n",
        "\n",
        "print(\"The square matrix is:\\n\", np.matrix(a))\n",
        "\n",
        "B = np.array(list(map(float, input(f\"Enter the constant terms: \").split())))\n",
        "\n",
        "print(f\"The constant output matrix is:\\n\", B)\n",
        "\n",
        "p, l, u = slg.lu(a)\n",
        "\n",
        "lum = slg.lu_factor(a)\n",
        "\n",
        "print(\"The lower triangular matrix is:\\n\", l)\n",
        "\n",
        "print(\"The upper triangular matrix is:\\n\", u)\n",
        "print(\"The permutation matrix is:\\n\", p)\n",
        "\n",
        "x = slg.lu_solve(lum, B)\n",
        "\n",
        "print(\"The solution is:\\n\", x)"
      ],
      "metadata": {
        "id": "ELaMu_DIZLbG",
        "colab": {
          "base_uri": "https://localhost:8080/"
        },
        "outputId": "5f435f07-3a53-4b78-b555-dc8a03b6bd5a"
      },
      "execution_count": null,
      "outputs": [
        {
          "output_type": "stream",
          "name": "stdout",
          "text": [
            "Enter the no. of coefficients: 3\n",
            "Enter the 1th row: 2 1 -1\n",
            "Enter the 2th row: -3 -1 2\n",
            "Enter the 3th row: -2 1 2\n",
            "The square matrix is:\n",
            " [[ 2.  1. -1.]\n",
            " [-3. -1.  2.]\n",
            " [-2.  1.  2.]]\n",
            "Enter the constant terms: 8 -11 -3\n",
            "The constant output matrix is:\n",
            " [  8. -11.  -3.]\n",
            "The lower triangular matrix is:\n",
            " [[ 1.          0.          0.        ]\n",
            " [ 0.66666667  1.          0.        ]\n",
            " [-0.66666667  0.2         1.        ]]\n",
            "The upper triangular matrix is:\n",
            " [[-3.         -1.          2.        ]\n",
            " [ 0.          1.66666667  0.66666667]\n",
            " [ 0.          0.          0.2       ]]\n",
            "The permutation matrix is:\n",
            " [[0. 0. 1.]\n",
            " [1. 0. 0.]\n",
            " [0. 1. 0.]]\n",
            "The solution is:\n",
            " [ 2.  3. -1.]\n"
          ]
        }
      ]
    },
    {
      "cell_type": "markdown",
      "source": [
        "# Langarange interpolation"
      ],
      "metadata": {
        "id": "_wW0Sfcg0zr_"
      }
    },
    {
      "cell_type": "code",
      "source": [
        "# to find the lagarange interpolation polynomial for the given data\n",
        "\n",
        "import numpy as np\n",
        "import sympy as sp\n",
        "import matplotlib.pyplot as plt\n",
        "\n",
        "n = int(input(\"Enter the no. of data: \"))\n",
        "\n",
        "X = np.array(list(map(float, input(\"Enter all x-data: \").split())))\n",
        "y = np.array(list(map(float, input(\"Enter all y-data: \").split())))\n",
        "\n",
        "xp = float(input(\"Enter point to interpolate: \"))\n",
        "\n",
        "x = sp.symbols('x')\n",
        "\n",
        "poly = 0\n",
        "\n",
        "for i in range(n):\n",
        "    lf = 1\n",
        "    for j in range(n):\n",
        "        if(j!=i):\n",
        "            lf *= (x - X[j])/(X[i]-X[j])\n",
        "    poly += lf * y[i]\n",
        "\n",
        "poly = sp.simplify(poly)\n",
        "\n",
        "print(\"The Lagarange polynomial is:\\n\", poly)\n",
        "\n",
        "int_val = poly.subs(x, xp)\n",
        "print(f\"The interpolated value at x = {xp} is {int_val}\")\n",
        "\n",
        "f = sp.lambdify(x, poly, \"numpy\")\n",
        "x_val = np.linspace(min(X)-2, max(X)+2, 1000)\n",
        "\n",
        "#visualize the output\n",
        "plt.figure()\n",
        "plt.plot(x_val, f(x_val), color=\"r\", label=poly)\n",
        "plt.axvline(0, 0, color=\"black\")\n",
        "plt.axhline(0, 0, color=\"black\")\n",
        "plt.xlabel(\"x\")\n",
        "plt.ylabel(\"f(x)\")\n",
        "plt.legend()\n",
        "plt.grid(True)\n",
        "plt.title(f\"Lagarange Interpolation\")\n",
        "plt.scatter(X, f(X), color=\"blue\")\n",
        "for i, val in enumerate(X):\n",
        "    plt.text(val, f(val), f'{val}')\n",
        "plt.scatter(xp, f(xp), color=\"red\")\n",
        "plt.text(xp, f(xp), f'{xp}')\n",
        "plt.show()"
      ],
      "metadata": {
        "colab": {
          "base_uri": "https://localhost:8080/",
          "height": 600
        },
        "id": "Lu69TiCG04-H",
        "outputId": "82b9ebf8-71f1-4625-e7c7-e0f0c6241aeb"
      },
      "execution_count": null,
      "outputs": [
        {
          "output_type": "stream",
          "name": "stdout",
          "text": [
            "Enter the no. of data: 5\n",
            "Enter all x-data: 1 3 5 7 9\n",
            "Enter all y-data: 1 6 9 11 13\n",
            "Enter point to interpolate: 3.45\n",
            "The Lagarange polynomial is:\n",
            " -1.38777878078145e-17*x**4 + 0.0208333333333335*x**3 - 0.437500000000002*x**2 + 3.97916666666667*x - 2.5625\n",
            "The interpolated value at x = 3.45 is 6.81377343749999\n"
          ]
        },
        {
          "output_type": "display_data",
          "data": {
            "text/plain": [
              "<Figure size 640x480 with 1 Axes>"
            ],
            "image/png": "[encoded data removed]"
          },
          "metadata": {}
        }
      ]
    }
  ]
}